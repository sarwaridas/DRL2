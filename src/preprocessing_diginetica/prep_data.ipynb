{
  "nbformat": 4,
  "nbformat_minor": 0,
  "metadata": {
    "colab": {
      "provenance": []
    },
    "kernelspec": {
      "name": "python3",
      "display_name": "Python 3"
    },
    "language_info": {
      "name": "python"
    }
  },
  "cells": [
    {
      "cell_type": "code",
      "source": [
        "from google.colab import drive\n",
        "drive.mount('/content/drive')"
      ],
      "metadata": {
        "colab": {
          "base_uri": "https://localhost:8080/"
        },
        "id": "lP4QBxRWV2Fq",
        "outputId": "d1b38ee2-0286-40cd-d6b0-7c1214fcc51e"
      },
      "execution_count": 3,
      "outputs": [
        {
          "output_type": "stream",
          "name": "stdout",
          "text": [
            "Mounted at /content/drive\n"
          ]
        }
      ]
    },
    {
      "cell_type": "code",
      "source": [
        "%cd /content/drive/MyDrive/AIPI_590/Final Project/DRL2/preprocessing"
      ],
      "metadata": {
        "colab": {
          "base_uri": "https://localhost:8080/"
        },
        "id": "9hXEmu2tV8gc",
        "outputId": "3bb161cb-6c9b-461b-e31a-357aa84294eb"
      },
      "execution_count": 4,
      "outputs": [
        {
          "output_type": "stream",
          "name": "stdout",
          "text": [
            "/content/drive/MyDrive/AIPI_590/Final Project/DRL2/preprocessing\n"
          ]
        }
      ]
    },
    {
      "cell_type": "code",
      "source": [
        "import numpy as np\n",
        "import pandas as pd\n",
        "import datetime"
      ],
      "metadata": {
        "id": "ZZyYHnN0mjHi"
      },
      "execution_count": 5,
      "outputs": []
    },
    {
      "cell_type": "code",
      "source": [
        "# Load datassets\n",
        "purchase_df = pd.read_csv('dataset-train/train-purchases.csv', sep=';')\n",
        "clicks_df = pd.read_csv('dataset-train/train-clicks.csv', sep=';')\n",
        "views_df = pd.read_csv('dataset-train/train-item-views.csv', sep=';')\n",
        "queries_df = pd.read_csv('dataset-train/train-queries.csv', sep=';',low_memory=False)"
      ],
      "metadata": {
        "id": "NIfHi2UkdToV"
      },
      "execution_count": 9,
      "outputs": []
    },
    {
      "cell_type": "code",
      "source": [
        "# Exclude test datapoints\n",
        "queries_df = queries_df[queries_df['is.test']== False]"
      ],
      "metadata": {
        "id": "tKF9VFH3lcy8"
      },
      "execution_count": 10,
      "outputs": []
    },
    {
      "cell_type": "code",
      "source": [
        "# Merge clicks and queries dataframes\n",
        "clicks_ses_df = clicks_df.merge(queries_df[['queryId','eventdate','sessionId']], left_on = \"queryId\", right_on = \"queryId\", how = \"left\")"
      ],
      "metadata": {
        "id": "CECr6VS-pUXh"
      },
      "execution_count": 11,
      "outputs": []
    },
    {
      "cell_type": "code",
      "source": [
        "# Keep columns 'sessionId','eventdate','itemId' inpurchase dataframe\n",
        "purchase_df = purchase_df[['sessionId','eventdate','itemId']]"
      ],
      "metadata": {
        "id": "WH1zR8JqHukS"
      },
      "execution_count": 12,
      "outputs": []
    },
    {
      "cell_type": "code",
      "source": [
        "# Add column \"is_buy\"\n",
        "purchase_df['is_buy'] = 1"
      ],
      "metadata": {
        "id": "SqEkP0ycKwIk"
      },
      "execution_count": 13,
      "outputs": []
    },
    {
      "cell_type": "code",
      "source": [
        "# Keep columns 'sessionId','eventdate','itemId' inpurchase dataframe\n",
        "clicks_ses_df = clicks_ses_df[['sessionId','eventdate','itemId']]"
      ],
      "metadata": {
        "id": "DvCaAs_LLGP1"
      },
      "execution_count": 14,
      "outputs": []
    },
    {
      "cell_type": "code",
      "source": [
        "# Add column \"is_buy\"\n",
        "clicks_ses_df['is_buy'] = 0"
      ],
      "metadata": {
        "id": "QtgI8SlrLOGN"
      },
      "execution_count": 15,
      "outputs": []
    },
    {
      "cell_type": "code",
      "source": [
        "# Concat clicks and purchases\n",
        "data_df = pd.concat([clicks_ses_df, purchase_df])"
      ],
      "metadata": {
        "id": "UBYlhyEsLSIv"
      },
      "execution_count": 16,
      "outputs": []
    },
    {
      "cell_type": "code",
      "source": [
        "# Rename columns\n",
        "data_df.rename(columns={'sessionId': 'session_id_c',\n",
        "                   'eventdate': 'timestamp',\n",
        "                   'itemId':'item_id'},\n",
        "          inplace=True)"
      ],
      "metadata": {
        "id": "HzjBRYzoH5LZ"
      },
      "execution_count": 17,
      "outputs": []
    },
    {
      "cell_type": "code",
      "source": [
        "# Sort data\n",
        "data_sort_df = data_df.sort_values(['session_id_c', 'timestamp'], ascending=[True, True])"
      ],
      "metadata": {
        "id": "ybQcul5nJuyd"
      },
      "execution_count": 22,
      "outputs": []
    },
    {
      "cell_type": "code",
      "source": [
        "data_sort_df= data_sort_df.dropna()\n",
        "data_sort_df = data_sort_df.reset_index(drop=True)"
      ],
      "metadata": {
        "id": "nTE7sXIILh2c"
      },
      "execution_count": 23,
      "outputs": []
    },
    {
      "cell_type": "code",
      "source": [
        "# Create new colummn for 'session_id' and 'item_id'\n",
        "data_sort_df['session_id'] = np.array(data_sort_df.session_id_c)\n",
        "data_sort_df['item_id'] = np.array(data_sort_df.item_id)\n",
        "# Keep columns 'session_id','timestamp','item_id','is_buy'\n",
        "data_sort_df = data_sort_df[['session_id','timestamp','item_id','is_buy']]\n",
        "# data_sort_df['is_buy'] = np.array(data_sort_df.is_buy)"
      ],
      "metadata": {
        "id": "vQgRIf3ID4n4"
      },
      "execution_count": 24,
      "outputs": []
    },
    {
      "cell_type": "code",
      "source": [
        "# List of counts per session_id\n",
        "lst_ses = data_sort_df[\"session_id\"].value_counts()\n",
        "# Exclude all sessions with less than 3 and greather than 50 events\n",
        "data_sort_df = data_sort_df[(data_sort_df['session_id'].isin(lst_ses[lst_ses>2].index)) & (data_sort_df['session_id'].isin(lst_ses[lst_ses<51].index))]"
      ],
      "metadata": {
        "id": "CSGwQZSqlEHA"
      },
      "execution_count": 25,
      "outputs": []
    },
    {
      "cell_type": "code",
      "source": [
        "# List of all unique item_ids\n",
        "unq_lst = np.array(data_sort_df.item_id.unique())\n",
        "# Indexes of unique items in data_sort_df\n",
        "idx = [np.where(unq_lst==i)[0][0] for i in data_sort_df['item_id']]\n",
        "# Add new column with indexes\n",
        "data_sort_df['idx'] = idx\n",
        "# Rename columns\n",
        "data_sort_df.rename(columns={'item_id': 'item_id_origin',\n",
        "                   'idx': 'item_id'},\n",
        "          inplace=True)"
      ],
      "metadata": {
        "id": "0i6YSE0TKnhk"
      },
      "execution_count": 26,
      "outputs": []
    },
    {
      "cell_type": "code",
      "source": [
        "# Reset index\n",
        "data_sort_df = data_sort_df.reset_index(drop=True)\n",
        "# Keep columns 'session_id', 'timestamp', 'item_id', 'is_buy'\n",
        "data = data_sort_df[['session_id', 'timestamp', 'item_id', 'is_buy']]"
      ],
      "metadata": {
        "id": "XijNW2pup3wg"
      },
      "execution_count": 27,
      "outputs": []
    },
    {
      "cell_type": "code",
      "source": [
        "# Create function to save dataframe \n",
        "import os\n",
        "def to_pickled_df(data_directory, **kwargs):\n",
        "    for name, df in kwargs.items():\n",
        "        df.to_pickle(os.path.join(data_directory, name + '.df'))"
      ],
      "metadata": {
        "id": "ZonTEqJXUo6y"
      },
      "execution_count": 28,
      "outputs": []
    },
    {
      "cell_type": "code",
      "source": [
        "to_pickled_df('dataset-train', sampled_sessions=data)"
      ],
      "metadata": {
        "id": "8WtyYG5-Nfz_"
      },
      "execution_count": null,
      "outputs": []
    }
  ]
}