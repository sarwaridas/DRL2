{
  "nbformat": 4,
  "nbformat_minor": 0,
  "metadata": {
    "colab": {
      "provenance": [],
      "authorship_tag": "ABX9TyOlw7HUZv+wZw7s7XVCytPe",
      "include_colab_link": true
    },
    "kernelspec": {
      "name": "python3",
      "display_name": "Python 3"
    },
    "language_info": {
      "name": "python"
    }
  },
  "cells": [
    {
      "cell_type": "markdown",
      "metadata": {
        "id": "view-in-github",
        "colab_type": "text"
      },
      "source": [
        "<a href=\"https://colab.research.google.com/github/sarwaridas/DRL2/blob/main/microsoft_reccomenders/Microsoft_Reccomender.ipynb\" target=\"_parent\"><img src=\"https://colab.research.google.com/assets/colab-badge.svg\" alt=\"Open In Colab\"/></a>"
      ]
    },
    {
      "cell_type": "code",
      "execution_count": 1,
      "metadata": {
        "colab": {
          "base_uri": "https://localhost:8080/"
        },
        "id": "6M_spMD0mTSv",
        "outputId": "a105334b-f433-41f7-eded-5b95a628e13d"
      },
      "outputs": [
        {
          "output_type": "stream",
          "name": "stdout",
          "text": [
            "Mounted at /content/drive\n"
          ]
        }
      ],
      "source": [
        "from google.colab import drive\n",
        "drive.mount('/content/drive')"
      ]
    },
    {
      "cell_type": "code",
      "source": [
        "%cd /content/drive/MyDrive/Final Project"
      ],
      "metadata": {
        "colab": {
          "base_uri": "https://localhost:8080/"
        },
        "id": "FF2EHoHjm0j_",
        "outputId": "bc0150b8-f84d-48cb-8c27-fa829bd82ab1"
      },
      "execution_count": 4,
      "outputs": [
        {
          "output_type": "stream",
          "name": "stdout",
          "text": [
            "/content/drive/.shortcut-targets-by-id/1IDZheLhbUxf4Hl-NziHhCULeeSsjfiaL/Final Project\n"
          ]
        }
      ]
    },
    {
      "cell_type": "code",
      "source": [
        "# !git clone https://github.com/microsoft/recommenders.git"
      ],
      "metadata": {
        "id": "0lguqRal31lx"
      },
      "execution_count": 2,
      "outputs": []
    },
    {
      "cell_type": "code",
      "source": [
        "%cd recommenders"
      ],
      "metadata": {
        "colab": {
          "base_uri": "https://localhost:8080/"
        },
        "id": "W1eAn_KFn56k",
        "outputId": "7f972de8-162e-4dcd-d0d1-d5a56be6527e"
      },
      "execution_count": 5,
      "outputs": [
        {
          "output_type": "stream",
          "name": "stdout",
          "text": [
            "/content/drive/.shortcut-targets-by-id/1IDZheLhbUxf4Hl-NziHhCULeeSsjfiaL/Final Project/recommenders\n"
          ]
        }
      ]
    },
    {
      "cell_type": "code",
      "source": [
        "!ls"
      ],
      "metadata": {
        "colab": {
          "base_uri": "https://localhost:8080/"
        },
        "id": "QY-VXfCCo98V",
        "outputId": "c6aafd19-baa5-4985-bd34-03d5478b515e"
      },
      "execution_count": 6,
      "outputs": [
        {
          "output_type": "stream",
          "name": "stdout",
          "text": [
            "AUTHORS.md\t    CONTRIBUTING.md  LICENSE\t     README.md\t   SETUP.md\n",
            "CODE_OF_CONDUCT.md  docs\t     MANIFEST.in     recommenders  setup.py\n",
            "conda.md\t    examples\t     NEWS.md\t     scenarios\t   tests\n",
            "contrib\t\t    GLOSSARY.md      pyproject.toml  SECURITY.md   tools\n"
          ]
        }
      ]
    },
    {
      "cell_type": "code",
      "source": [
        "from recommenders.models import sar\n",
        "import pandas as pd\n",
        "import numpy as np"
      ],
      "metadata": {
        "id": "QsZOCdSo4IXV"
      },
      "execution_count": 141,
      "outputs": []
    },
    {
      "cell_type": "code",
      "source": [
        "### Update path to Dignitica data sample_session.df file here:\n",
        "digniticaDatapath = '/content/drive/MyDrive/sampled_sessions.df'"
      ],
      "metadata": {
        "id": "OANMJcZg4QEV"
      },
      "execution_count": 142,
      "outputs": []
    },
    {
      "cell_type": "code",
      "source": [
        "df = pd.read_pickle(digniticaDatapath)\n",
        "df = df[df['is_buy'] == 1]"
      ],
      "metadata": {
        "id": "out_mOW5m7q4"
      },
      "execution_count": 143,
      "outputs": []
    },
    {
      "cell_type": "code",
      "source": [
        "df.head()"
      ],
      "metadata": {
        "colab": {
          "base_uri": "https://localhost:8080/",
          "height": 206
        },
        "id": "gbaNEWtwptPe",
        "outputId": "e2821ae4-47ee-4223-bf7e-5a868d873eb6"
      },
      "execution_count": 144,
      "outputs": [
        {
          "output_type": "execute_result",
          "data": {
            "text/plain": [
              "     session_id   timestamp  item_id  is_buy\n",
              "420         150  2016-05-06      329       1\n",
              "440         156  2016-05-27      336       1\n",
              "660         246  2016-05-09      514       1\n",
              "740         312  2016-04-25      577       1\n",
              "741         312  2016-04-25      574       1"
            ],
            "text/html": [
              "\n",
              "  <div id=\"df-b0d7678e-d060-4659-adbd-ac96c21e7b77\">\n",
              "    <div class=\"colab-df-container\">\n",
              "      <div>\n",
              "<style scoped>\n",
              "    .dataframe tbody tr th:only-of-type {\n",
              "        vertical-align: middle;\n",
              "    }\n",
              "\n",
              "    .dataframe tbody tr th {\n",
              "        vertical-align: top;\n",
              "    }\n",
              "\n",
              "    .dataframe thead th {\n",
              "        text-align: right;\n",
              "    }\n",
              "</style>\n",
              "<table border=\"1\" class=\"dataframe\">\n",
              "  <thead>\n",
              "    <tr style=\"text-align: right;\">\n",
              "      <th></th>\n",
              "      <th>session_id</th>\n",
              "      <th>timestamp</th>\n",
              "      <th>item_id</th>\n",
              "      <th>is_buy</th>\n",
              "    </tr>\n",
              "  </thead>\n",
              "  <tbody>\n",
              "    <tr>\n",
              "      <th>420</th>\n",
              "      <td>150</td>\n",
              "      <td>2016-05-06</td>\n",
              "      <td>329</td>\n",
              "      <td>1</td>\n",
              "    </tr>\n",
              "    <tr>\n",
              "      <th>440</th>\n",
              "      <td>156</td>\n",
              "      <td>2016-05-27</td>\n",
              "      <td>336</td>\n",
              "      <td>1</td>\n",
              "    </tr>\n",
              "    <tr>\n",
              "      <th>660</th>\n",
              "      <td>246</td>\n",
              "      <td>2016-05-09</td>\n",
              "      <td>514</td>\n",
              "      <td>1</td>\n",
              "    </tr>\n",
              "    <tr>\n",
              "      <th>740</th>\n",
              "      <td>312</td>\n",
              "      <td>2016-04-25</td>\n",
              "      <td>577</td>\n",
              "      <td>1</td>\n",
              "    </tr>\n",
              "    <tr>\n",
              "      <th>741</th>\n",
              "      <td>312</td>\n",
              "      <td>2016-04-25</td>\n",
              "      <td>574</td>\n",
              "      <td>1</td>\n",
              "    </tr>\n",
              "  </tbody>\n",
              "</table>\n",
              "</div>\n",
              "      <button class=\"colab-df-convert\" onclick=\"convertToInteractive('df-b0d7678e-d060-4659-adbd-ac96c21e7b77')\"\n",
              "              title=\"Convert this dataframe to an interactive table.\"\n",
              "              style=\"display:none;\">\n",
              "        \n",
              "  <svg xmlns=\"http://www.w3.org/2000/svg\" height=\"24px\"viewBox=\"0 0 24 24\"\n",
              "       width=\"24px\">\n",
              "    <path d=\"M0 0h24v24H0V0z\" fill=\"none\"/>\n",
              "    <path d=\"M18.56 5.44l.94 2.06.94-2.06 2.06-.94-2.06-.94-.94-2.06-.94 2.06-2.06.94zm-11 1L8.5 8.5l.94-2.06 2.06-.94-2.06-.94L8.5 2.5l-.94 2.06-2.06.94zm10 10l.94 2.06.94-2.06 2.06-.94-2.06-.94-.94-2.06-.94 2.06-2.06.94z\"/><path d=\"M17.41 7.96l-1.37-1.37c-.4-.4-.92-.59-1.43-.59-.52 0-1.04.2-1.43.59L10.3 9.45l-7.72 7.72c-.78.78-.78 2.05 0 2.83L4 21.41c.39.39.9.59 1.41.59.51 0 1.02-.2 1.41-.59l7.78-7.78 2.81-2.81c.8-.78.8-2.07 0-2.86zM5.41 20L4 18.59l7.72-7.72 1.47 1.35L5.41 20z\"/>\n",
              "  </svg>\n",
              "      </button>\n",
              "      \n",
              "  <style>\n",
              "    .colab-df-container {\n",
              "      display:flex;\n",
              "      flex-wrap:wrap;\n",
              "      gap: 12px;\n",
              "    }\n",
              "\n",
              "    .colab-df-convert {\n",
              "      background-color: #E8F0FE;\n",
              "      border: none;\n",
              "      border-radius: 50%;\n",
              "      cursor: pointer;\n",
              "      display: none;\n",
              "      fill: #1967D2;\n",
              "      height: 32px;\n",
              "      padding: 0 0 0 0;\n",
              "      width: 32px;\n",
              "    }\n",
              "\n",
              "    .colab-df-convert:hover {\n",
              "      background-color: #E2EBFA;\n",
              "      box-shadow: 0px 1px 2px rgba(60, 64, 67, 0.3), 0px 1px 3px 1px rgba(60, 64, 67, 0.15);\n",
              "      fill: #174EA6;\n",
              "    }\n",
              "\n",
              "    [theme=dark] .colab-df-convert {\n",
              "      background-color: #3B4455;\n",
              "      fill: #D2E3FC;\n",
              "    }\n",
              "\n",
              "    [theme=dark] .colab-df-convert:hover {\n",
              "      background-color: #434B5C;\n",
              "      box-shadow: 0px 1px 3px 1px rgba(0, 0, 0, 0.15);\n",
              "      filter: drop-shadow(0px 1px 2px rgba(0, 0, 0, 0.3));\n",
              "      fill: #FFFFFF;\n",
              "    }\n",
              "  </style>\n",
              "\n",
              "      <script>\n",
              "        const buttonEl =\n",
              "          document.querySelector('#df-b0d7678e-d060-4659-adbd-ac96c21e7b77 button.colab-df-convert');\n",
              "        buttonEl.style.display =\n",
              "          google.colab.kernel.accessAllowed ? 'block' : 'none';\n",
              "\n",
              "        async function convertToInteractive(key) {\n",
              "          const element = document.querySelector('#df-b0d7678e-d060-4659-adbd-ac96c21e7b77');\n",
              "          const dataTable =\n",
              "            await google.colab.kernel.invokeFunction('convertToInteractive',\n",
              "                                                     [key], {});\n",
              "          if (!dataTable) return;\n",
              "\n",
              "          const docLinkHtml = 'Like what you see? Visit the ' +\n",
              "            '<a target=\"_blank\" href=https://colab.research.google.com/notebooks/data_table.ipynb>data table notebook</a>'\n",
              "            + ' to learn more about interactive tables.';\n",
              "          element.innerHTML = '';\n",
              "          dataTable['output_type'] = 'display_data';\n",
              "          await google.colab.output.renderOutput(dataTable, element);\n",
              "          const docLink = document.createElement('div');\n",
              "          docLink.innerHTML = docLinkHtml;\n",
              "          element.appendChild(docLink);\n",
              "        }\n",
              "      </script>\n",
              "    </div>\n",
              "  </div>\n",
              "  "
            ]
          },
          "metadata": {},
          "execution_count": 144
        }
      ]
    },
    {
      "cell_type": "code",
      "source": [
        "df['timestamp'] = pd.to_datetime(df['timestamp'],format= '%Y-%m-%d' ).values.astype(np.int64) // 10 ** 9 + df.index"
      ],
      "metadata": {
        "id": "090F5_nOvboJ"
      },
      "execution_count": 145,
      "outputs": []
    },
    {
      "cell_type": "code",
      "source": [
        "df['rating'] = df['is_buy']"
      ],
      "metadata": {
        "id": "x81SjIwP7Z75"
      },
      "execution_count": 146,
      "outputs": []
    },
    {
      "cell_type": "code",
      "source": [
        "df.head()"
      ],
      "metadata": {
        "colab": {
          "base_uri": "https://localhost:8080/",
          "height": 206
        },
        "id": "IGk5t5_tv673",
        "outputId": "fb74abb2-a278-491a-8107-65cbb622ad3b"
      },
      "execution_count": 147,
      "outputs": [
        {
          "output_type": "execute_result",
          "data": {
            "text/plain": [
              "     session_id   timestamp  item_id  is_buy  rating\n",
              "420         150  1462493220      329       1       1\n",
              "440         156  1464307640      336       1       1\n",
              "660         246  1462752660      514       1       1\n",
              "740         312  1461543140      577       1       1\n",
              "741         312  1461543141      574       1       1"
            ],
            "text/html": [
              "\n",
              "  <div id=\"df-6ff298ac-2a3f-4ec9-90b2-e1f8b1a04a13\">\n",
              "    <div class=\"colab-df-container\">\n",
              "      <div>\n",
              "<style scoped>\n",
              "    .dataframe tbody tr th:only-of-type {\n",
              "        vertical-align: middle;\n",
              "    }\n",
              "\n",
              "    .dataframe tbody tr th {\n",
              "        vertical-align: top;\n",
              "    }\n",
              "\n",
              "    .dataframe thead th {\n",
              "        text-align: right;\n",
              "    }\n",
              "</style>\n",
              "<table border=\"1\" class=\"dataframe\">\n",
              "  <thead>\n",
              "    <tr style=\"text-align: right;\">\n",
              "      <th></th>\n",
              "      <th>session_id</th>\n",
              "      <th>timestamp</th>\n",
              "      <th>item_id</th>\n",
              "      <th>is_buy</th>\n",
              "      <th>rating</th>\n",
              "    </tr>\n",
              "  </thead>\n",
              "  <tbody>\n",
              "    <tr>\n",
              "      <th>420</th>\n",
              "      <td>150</td>\n",
              "      <td>1462493220</td>\n",
              "      <td>329</td>\n",
              "      <td>1</td>\n",
              "      <td>1</td>\n",
              "    </tr>\n",
              "    <tr>\n",
              "      <th>440</th>\n",
              "      <td>156</td>\n",
              "      <td>1464307640</td>\n",
              "      <td>336</td>\n",
              "      <td>1</td>\n",
              "      <td>1</td>\n",
              "    </tr>\n",
              "    <tr>\n",
              "      <th>660</th>\n",
              "      <td>246</td>\n",
              "      <td>1462752660</td>\n",
              "      <td>514</td>\n",
              "      <td>1</td>\n",
              "      <td>1</td>\n",
              "    </tr>\n",
              "    <tr>\n",
              "      <th>740</th>\n",
              "      <td>312</td>\n",
              "      <td>1461543140</td>\n",
              "      <td>577</td>\n",
              "      <td>1</td>\n",
              "      <td>1</td>\n",
              "    </tr>\n",
              "    <tr>\n",
              "      <th>741</th>\n",
              "      <td>312</td>\n",
              "      <td>1461543141</td>\n",
              "      <td>574</td>\n",
              "      <td>1</td>\n",
              "      <td>1</td>\n",
              "    </tr>\n",
              "  </tbody>\n",
              "</table>\n",
              "</div>\n",
              "      <button class=\"colab-df-convert\" onclick=\"convertToInteractive('df-6ff298ac-2a3f-4ec9-90b2-e1f8b1a04a13')\"\n",
              "              title=\"Convert this dataframe to an interactive table.\"\n",
              "              style=\"display:none;\">\n",
              "        \n",
              "  <svg xmlns=\"http://www.w3.org/2000/svg\" height=\"24px\"viewBox=\"0 0 24 24\"\n",
              "       width=\"24px\">\n",
              "    <path d=\"M0 0h24v24H0V0z\" fill=\"none\"/>\n",
              "    <path d=\"M18.56 5.44l.94 2.06.94-2.06 2.06-.94-2.06-.94-.94-2.06-.94 2.06-2.06.94zm-11 1L8.5 8.5l.94-2.06 2.06-.94-2.06-.94L8.5 2.5l-.94 2.06-2.06.94zm10 10l.94 2.06.94-2.06 2.06-.94-2.06-.94-.94-2.06-.94 2.06-2.06.94z\"/><path d=\"M17.41 7.96l-1.37-1.37c-.4-.4-.92-.59-1.43-.59-.52 0-1.04.2-1.43.59L10.3 9.45l-7.72 7.72c-.78.78-.78 2.05 0 2.83L4 21.41c.39.39.9.59 1.41.59.51 0 1.02-.2 1.41-.59l7.78-7.78 2.81-2.81c.8-.78.8-2.07 0-2.86zM5.41 20L4 18.59l7.72-7.72 1.47 1.35L5.41 20z\"/>\n",
              "  </svg>\n",
              "      </button>\n",
              "      \n",
              "  <style>\n",
              "    .colab-df-container {\n",
              "      display:flex;\n",
              "      flex-wrap:wrap;\n",
              "      gap: 12px;\n",
              "    }\n",
              "\n",
              "    .colab-df-convert {\n",
              "      background-color: #E8F0FE;\n",
              "      border: none;\n",
              "      border-radius: 50%;\n",
              "      cursor: pointer;\n",
              "      display: none;\n",
              "      fill: #1967D2;\n",
              "      height: 32px;\n",
              "      padding: 0 0 0 0;\n",
              "      width: 32px;\n",
              "    }\n",
              "\n",
              "    .colab-df-convert:hover {\n",
              "      background-color: #E2EBFA;\n",
              "      box-shadow: 0px 1px 2px rgba(60, 64, 67, 0.3), 0px 1px 3px 1px rgba(60, 64, 67, 0.15);\n",
              "      fill: #174EA6;\n",
              "    }\n",
              "\n",
              "    [theme=dark] .colab-df-convert {\n",
              "      background-color: #3B4455;\n",
              "      fill: #D2E3FC;\n",
              "    }\n",
              "\n",
              "    [theme=dark] .colab-df-convert:hover {\n",
              "      background-color: #434B5C;\n",
              "      box-shadow: 0px 1px 3px 1px rgba(0, 0, 0, 0.15);\n",
              "      filter: drop-shadow(0px 1px 2px rgba(0, 0, 0, 0.3));\n",
              "      fill: #FFFFFF;\n",
              "    }\n",
              "  </style>\n",
              "\n",
              "      <script>\n",
              "        const buttonEl =\n",
              "          document.querySelector('#df-6ff298ac-2a3f-4ec9-90b2-e1f8b1a04a13 button.colab-df-convert');\n",
              "        buttonEl.style.display =\n",
              "          google.colab.kernel.accessAllowed ? 'block' : 'none';\n",
              "\n",
              "        async function convertToInteractive(key) {\n",
              "          const element = document.querySelector('#df-6ff298ac-2a3f-4ec9-90b2-e1f8b1a04a13');\n",
              "          const dataTable =\n",
              "            await google.colab.kernel.invokeFunction('convertToInteractive',\n",
              "                                                     [key], {});\n",
              "          if (!dataTable) return;\n",
              "\n",
              "          const docLinkHtml = 'Like what you see? Visit the ' +\n",
              "            '<a target=\"_blank\" href=https://colab.research.google.com/notebooks/data_table.ipynb>data table notebook</a>'\n",
              "            + ' to learn more about interactive tables.';\n",
              "          element.innerHTML = '';\n",
              "          dataTable['output_type'] = 'display_data';\n",
              "          await google.colab.output.renderOutput(dataTable, element);\n",
              "          const docLink = document.createElement('div');\n",
              "          docLink.innerHTML = docLinkHtml;\n",
              "          element.appendChild(docLink);\n",
              "        }\n",
              "      </script>\n",
              "    </div>\n",
              "  </div>\n",
              "  "
            ]
          },
          "metadata": {},
          "execution_count": 147
        }
      ]
    },
    {
      "cell_type": "code",
      "source": [
        "sars = sar.SAR('session_id','item_id','is_buy','timestamp', timedecay_formula=True)"
      ],
      "metadata": {
        "id": "qNTzmICDpT47"
      },
      "execution_count": 148,
      "outputs": []
    },
    {
      "cell_type": "code",
      "source": [
        "sars.fit(df)"
      ],
      "metadata": {
        "id": "wBK4hGKVp9T6"
      },
      "execution_count": 149,
      "outputs": []
    },
    {
      "cell_type": "code",
      "source": [
        "prediction = sars.recommend_k_items(df,8)"
      ],
      "metadata": {
        "id": "wP2yptsm6FHB"
      },
      "execution_count": 165,
      "outputs": []
    },
    {
      "cell_type": "code",
      "source": [
        "import recommenders.evaluation.python_evaluation as evalMetrics\n",
        "\n",
        "prediction3 = sars.recommend_k_items(df,3)\n",
        "prediction5 = sars.recommend_k_items(df,5)\n",
        "prediction8 = sars.recommend_k_items(df,8)\n",
        "ndcg3 = evalMetrics.ndcg_at_k(df, prediction3,'session_id','item_id','prediction', k = 3)\n",
        "ndcg5 = evalMetrics.ndcg_at_k(df, prediction5,'session_id','item_id','prediction', k = 5)\n",
        "ndcg8 = evalMetrics.ndcg_at_k(df, prediction8,'session_id','item_id','prediction', k = 8)\n",
        "\n",
        "print('NDCG at 3: ' + str(ndcg3))\n",
        "print('NDCG at 5: ' + str(ndcg5))\n",
        "print('NDCG at 8: ' + str(ndcg8))"
      ],
      "metadata": {
        "colab": {
          "base_uri": "https://localhost:8080/"
        },
        "id": "HrShgMfE5wVo",
        "outputId": "32ffda1c-5d2b-4ff1-c54e-c5243f54b852"
      },
      "execution_count": 155,
      "outputs": [
        {
          "output_type": "stream",
          "name": "stdout",
          "text": [
            "NDCG at 3: 1.0566246603605576\n",
            "NDCG at 5: 1.0382341897376748\n",
            "NDCG at 8: 1.0293221965259156\n"
          ]
        }
      ]
    },
    {
      "cell_type": "code",
      "source": [
        "reccomendations = prediction.groupby('session_id')['item_id'].apply(list).reset_index(name='reccomended')\n",
        "reccomendations = reccomendations.reset_index()"
      ],
      "metadata": {
        "id": "FOxo7eRl9J_3"
      },
      "execution_count": 166,
      "outputs": []
    },
    {
      "cell_type": "code",
      "source": [
        "reccomendations.head()"
      ],
      "metadata": {
        "colab": {
          "base_uri": "https://localhost:8080/",
          "height": 206
        },
        "id": "qxT78h_78HqO",
        "outputId": "f32a3412-b290-42f0-814a-71a5d08840ab"
      },
      "execution_count": 168,
      "outputs": [
        {
          "output_type": "execute_result",
          "data": {
            "text/plain": [
              "   index  session_id                                        reccomended\n",
              "0      0         150  [329, 21027, 17594, 659, 3963, 42726, 1743, 17...\n",
              "1      1         156  [336, 2756, 1743, 42758, 4894, 22389, 13055, 4...\n",
              "2      2         246  [514, 1743, 4894, 42758, 13084, 42725, 13055, ...\n",
              "3      3         312  [574, 577, 42758, 13084, 13055, 42726, 42725, ...\n",
              "4      4         322  [594, 42726, 4894, 1743, 42758, 13084, 42725, ..."
            ],
            "text/html": [
              "\n",
              "  <div id=\"df-86ccfb97-fb2d-42ef-815c-a71b8b841d1c\">\n",
              "    <div class=\"colab-df-container\">\n",
              "      <div>\n",
              "<style scoped>\n",
              "    .dataframe tbody tr th:only-of-type {\n",
              "        vertical-align: middle;\n",
              "    }\n",
              "\n",
              "    .dataframe tbody tr th {\n",
              "        vertical-align: top;\n",
              "    }\n",
              "\n",
              "    .dataframe thead th {\n",
              "        text-align: right;\n",
              "    }\n",
              "</style>\n",
              "<table border=\"1\" class=\"dataframe\">\n",
              "  <thead>\n",
              "    <tr style=\"text-align: right;\">\n",
              "      <th></th>\n",
              "      <th>index</th>\n",
              "      <th>session_id</th>\n",
              "      <th>reccomended</th>\n",
              "    </tr>\n",
              "  </thead>\n",
              "  <tbody>\n",
              "    <tr>\n",
              "      <th>0</th>\n",
              "      <td>0</td>\n",
              "      <td>150</td>\n",
              "      <td>[329, 21027, 17594, 659, 3963, 42726, 1743, 17...</td>\n",
              "    </tr>\n",
              "    <tr>\n",
              "      <th>1</th>\n",
              "      <td>1</td>\n",
              "      <td>156</td>\n",
              "      <td>[336, 2756, 1743, 42758, 4894, 22389, 13055, 4...</td>\n",
              "    </tr>\n",
              "    <tr>\n",
              "      <th>2</th>\n",
              "      <td>2</td>\n",
              "      <td>246</td>\n",
              "      <td>[514, 1743, 4894, 42758, 13084, 42725, 13055, ...</td>\n",
              "    </tr>\n",
              "    <tr>\n",
              "      <th>3</th>\n",
              "      <td>3</td>\n",
              "      <td>312</td>\n",
              "      <td>[574, 577, 42758, 13084, 13055, 42726, 42725, ...</td>\n",
              "    </tr>\n",
              "    <tr>\n",
              "      <th>4</th>\n",
              "      <td>4</td>\n",
              "      <td>322</td>\n",
              "      <td>[594, 42726, 4894, 1743, 42758, 13084, 42725, ...</td>\n",
              "    </tr>\n",
              "  </tbody>\n",
              "</table>\n",
              "</div>\n",
              "      <button class=\"colab-df-convert\" onclick=\"convertToInteractive('df-86ccfb97-fb2d-42ef-815c-a71b8b841d1c')\"\n",
              "              title=\"Convert this dataframe to an interactive table.\"\n",
              "              style=\"display:none;\">\n",
              "        \n",
              "  <svg xmlns=\"http://www.w3.org/2000/svg\" height=\"24px\"viewBox=\"0 0 24 24\"\n",
              "       width=\"24px\">\n",
              "    <path d=\"M0 0h24v24H0V0z\" fill=\"none\"/>\n",
              "    <path d=\"M18.56 5.44l.94 2.06.94-2.06 2.06-.94-2.06-.94-.94-2.06-.94 2.06-2.06.94zm-11 1L8.5 8.5l.94-2.06 2.06-.94-2.06-.94L8.5 2.5l-.94 2.06-2.06.94zm10 10l.94 2.06.94-2.06 2.06-.94-2.06-.94-.94-2.06-.94 2.06-2.06.94z\"/><path d=\"M17.41 7.96l-1.37-1.37c-.4-.4-.92-.59-1.43-.59-.52 0-1.04.2-1.43.59L10.3 9.45l-7.72 7.72c-.78.78-.78 2.05 0 2.83L4 21.41c.39.39.9.59 1.41.59.51 0 1.02-.2 1.41-.59l7.78-7.78 2.81-2.81c.8-.78.8-2.07 0-2.86zM5.41 20L4 18.59l7.72-7.72 1.47 1.35L5.41 20z\"/>\n",
              "  </svg>\n",
              "      </button>\n",
              "      \n",
              "  <style>\n",
              "    .colab-df-container {\n",
              "      display:flex;\n",
              "      flex-wrap:wrap;\n",
              "      gap: 12px;\n",
              "    }\n",
              "\n",
              "    .colab-df-convert {\n",
              "      background-color: #E8F0FE;\n",
              "      border: none;\n",
              "      border-radius: 50%;\n",
              "      cursor: pointer;\n",
              "      display: none;\n",
              "      fill: #1967D2;\n",
              "      height: 32px;\n",
              "      padding: 0 0 0 0;\n",
              "      width: 32px;\n",
              "    }\n",
              "\n",
              "    .colab-df-convert:hover {\n",
              "      background-color: #E2EBFA;\n",
              "      box-shadow: 0px 1px 2px rgba(60, 64, 67, 0.3), 0px 1px 3px 1px rgba(60, 64, 67, 0.15);\n",
              "      fill: #174EA6;\n",
              "    }\n",
              "\n",
              "    [theme=dark] .colab-df-convert {\n",
              "      background-color: #3B4455;\n",
              "      fill: #D2E3FC;\n",
              "    }\n",
              "\n",
              "    [theme=dark] .colab-df-convert:hover {\n",
              "      background-color: #434B5C;\n",
              "      box-shadow: 0px 1px 3px 1px rgba(0, 0, 0, 0.15);\n",
              "      filter: drop-shadow(0px 1px 2px rgba(0, 0, 0, 0.3));\n",
              "      fill: #FFFFFF;\n",
              "    }\n",
              "  </style>\n",
              "\n",
              "      <script>\n",
              "        const buttonEl =\n",
              "          document.querySelector('#df-86ccfb97-fb2d-42ef-815c-a71b8b841d1c button.colab-df-convert');\n",
              "        buttonEl.style.display =\n",
              "          google.colab.kernel.accessAllowed ? 'block' : 'none';\n",
              "\n",
              "        async function convertToInteractive(key) {\n",
              "          const element = document.querySelector('#df-86ccfb97-fb2d-42ef-815c-a71b8b841d1c');\n",
              "          const dataTable =\n",
              "            await google.colab.kernel.invokeFunction('convertToInteractive',\n",
              "                                                     [key], {});\n",
              "          if (!dataTable) return;\n",
              "\n",
              "          const docLinkHtml = 'Like what you see? Visit the ' +\n",
              "            '<a target=\"_blank\" href=https://colab.research.google.com/notebooks/data_table.ipynb>data table notebook</a>'\n",
              "            + ' to learn more about interactive tables.';\n",
              "          element.innerHTML = '';\n",
              "          dataTable['output_type'] = 'display_data';\n",
              "          await google.colab.output.renderOutput(dataTable, element);\n",
              "          const docLink = document.createElement('div');\n",
              "          docLink.innerHTML = docLinkHtml;\n",
              "          element.appendChild(docLink);\n",
              "        }\n",
              "      </script>\n",
              "    </div>\n",
              "  </div>\n",
              "  "
            ]
          },
          "metadata": {},
          "execution_count": 168
        }
      ]
    },
    {
      "cell_type": "code",
      "source": [
        "reccomendations.loc[reccomendations['session_id']==150].reccomended[0]"
      ],
      "metadata": {
        "colab": {
          "base_uri": "https://localhost:8080/"
        },
        "id": "b1bTBkO6-U6z",
        "outputId": "af156bdc-8b62-4a45-fac1-e02f8dcec50d"
      },
      "execution_count": 169,
      "outputs": [
        {
          "output_type": "execute_result",
          "data": {
            "text/plain": [
              "[329, 21027, 17594, 659, 3963, 42726, 1743, 17740]"
            ]
          },
          "metadata": {},
          "execution_count": 169
        }
      ]
    },
    {
      "cell_type": "code",
      "source": [
        "### Hit rate calculations:\n",
        "hits3 = 0\n",
        "total3 = 0\n",
        "hits5 = 0\n",
        "total5 = 0\n",
        "hits8 = 0\n",
        "total8 = 0\n",
        "for index, row in df.iterrows():\n",
        "  if index % 2000 == 0:\n",
        "    print('Progress = ' + str(index/len(df.index)))\n",
        "  reccomendedVales = reccomendations.loc[reccomendations['session_id']==row['session_id']].reccomended.values[0]\n",
        "  if row['item_id'] in reccomendedVales[:3]:\n",
        "    hits3 += 1\n",
        "    total3 += 1\n",
        "  else:\n",
        "    total3 += 1\n",
        "  if row['item_id'] in reccomendedVales[:5]:\n",
        "    hits5 += 1\n",
        "    total5 += 1\n",
        "  else:\n",
        "    total5 += 1\n",
        "  if row['item_id'] in reccomendedVales[:8]:\n",
        "    hits8 += 1\n",
        "    total8 += 1\n",
        "  else:\n",
        "    total8 += 1\n",
        "print('Hit rate at 3'+ ':' + str(hits3/total3))\n",
        "print('Hit rate at 5'+ ':' + str(hits5/total5))\n",
        "print('Hit rate at 8'+ ':' + str(hits8/total8))"
      ],
      "metadata": {
        "colab": {
          "base_uri": "https://localhost:8080/"
        },
        "id": "-muzc2sA9Y58",
        "outputId": "8b6da3c4-74d2-4d7b-8b89-d4b9dbfc06d8"
      },
      "execution_count": 170,
      "outputs": [
        {
          "output_type": "stream",
          "name": "stdout",
          "text": [
            "Progress = 0.0\n",
            "Progress = 0.13658403332650412\n",
            "Progress = 0.27316806665300825\n",
            "Progress = 0.4097520999795124\n",
            "Progress = 0.5463361333060165\n",
            "Progress = 0.6829201666325206\n",
            "Progress = 0.8195041999590248\n",
            "Progress = 0.9560882332855289\n",
            "Hit rate at 3:0.9352591682032371\n",
            "Hit rate at 5:0.9786928908010654\n",
            "Hit rate at 8:0.9941268865669604\n"
          ]
        }
      ]
    },
    {
      "cell_type": "markdown",
      "source": [
        "#### Retail Rocket"
      ],
      "metadata": {
        "id": "iNPLk2YMqhe0"
      }
    },
    {
      "cell_type": "markdown",
      "source": [
        "#### Data setup"
      ],
      "metadata": {
        "id": "40UITA7vKDEn"
      }
    },
    {
      "cell_type": "code",
      "execution_count": 46,
      "metadata": {
        "id": "EcQWqAlWHjis"
      },
      "outputs": [],
      "source": [
        " ! pip install -q kaggle"
      ]
    },
    {
      "cell_type": "code",
      "source": [
        "%cd /content"
      ],
      "metadata": {
        "colab": {
          "base_uri": "https://localhost:8080/"
        },
        "id": "VL-IOCcxqpU8",
        "outputId": "e6356299-b00b-4d28-c078-6632db94c36f"
      },
      "execution_count": 47,
      "outputs": [
        {
          "output_type": "stream",
          "name": "stdout",
          "text": [
            "/content\n"
          ]
        }
      ]
    },
    {
      "cell_type": "code",
      "source": [
        " ! mkdir ~/.kaggle"
      ],
      "metadata": {
        "id": "iUyO5rdvIPe4"
      },
      "execution_count": 48,
      "outputs": []
    },
    {
      "cell_type": "code",
      "source": [
        "## Upload kaggle.json file before running this block to get dataset\n",
        "! cp kaggle.json ~/.kaggle/\n",
        "! chmod 600 ~/.kaggle/kaggle.json"
      ],
      "metadata": {
        "id": "ABwxowmuIkeR"
      },
      "execution_count": 49,
      "outputs": []
    },
    {
      "cell_type": "code",
      "source": [
        "! kaggle datasets download -d retailrocket/ecommerce-dataset\n",
        "! unzip ecommerce-dataset.zip -d retailrocket"
      ],
      "metadata": {
        "colab": {
          "base_uri": "https://localhost:8080/"
        },
        "id": "KM6oISnrI69M",
        "outputId": "34eb7019-5999-4172-f81f-b187b72ee145"
      },
      "execution_count": 50,
      "outputs": [
        {
          "output_type": "stream",
          "name": "stdout",
          "text": [
            "Downloading ecommerce-dataset.zip to /content\n",
            "100% 290M/291M [00:05<00:00, 97.7MB/s]\n",
            "100% 291M/291M [00:05<00:00, 58.2MB/s]\n",
            "Archive:  ecommerce-dataset.zip\n",
            "  inflating: retailrocket/category_tree.csv  \n",
            "  inflating: retailrocket/events.csv  \n",
            "  inflating: retailrocket/item_properties_part1.csv  \n",
            "  inflating: retailrocket/item_properties_part2.csv  \n"
          ]
        }
      ]
    },
    {
      "cell_type": "code",
      "source": [
        "import time\n",
        "import numpy as np\n",
        "import pandas as pd\n",
        "\n",
        "import multiprocessing as mp\n",
        "from multiprocessing import Pool\n",
        "from functools import partial"
      ],
      "metadata": {
        "id": "szkBQG54KJnY"
      },
      "execution_count": 51,
      "outputs": []
    },
    {
      "cell_type": "code",
      "source": [
        "df = pd.read_csv(\"retailrocket/events.csv\")\n",
        "np.unique(df.event.to_numpy())"
      ],
      "metadata": {
        "colab": {
          "base_uri": "https://localhost:8080/"
        },
        "id": "0Q9z7gfGKVgv",
        "outputId": "a9fac6ae-0b58-4139-886e-c7119e0b060c"
      },
      "execution_count": 52,
      "outputs": [
        {
          "output_type": "execute_result",
          "data": {
            "text/plain": [
              "array(['addtocart', 'transaction', 'view'], dtype=object)"
            ]
          },
          "metadata": {},
          "execution_count": 52
        }
      ]
    },
    {
      "cell_type": "code",
      "source": [
        "df.head()"
      ],
      "metadata": {
        "colab": {
          "base_uri": "https://localhost:8080/",
          "height": 206
        },
        "id": "1jusoIUwPEm0",
        "outputId": "dc2221f8-e5b2-4eee-ac38-dbc9f7a67965"
      },
      "execution_count": 53,
      "outputs": [
        {
          "output_type": "execute_result",
          "data": {
            "text/plain": [
              "       timestamp  visitorid event  itemid  transactionid\n",
              "0  1433221332117     257597  view  355908            NaN\n",
              "1  1433224214164     992329  view  248676            NaN\n",
              "2  1433221999827     111016  view  318965            NaN\n",
              "3  1433221955914     483717  view  253185            NaN\n",
              "4  1433221337106     951259  view  367447            NaN"
            ],
            "text/html": [
              "\n",
              "  <div id=\"df-f50bda9d-d831-459f-8d85-64587ed4c91a\">\n",
              "    <div class=\"colab-df-container\">\n",
              "      <div>\n",
              "<style scoped>\n",
              "    .dataframe tbody tr th:only-of-type {\n",
              "        vertical-align: middle;\n",
              "    }\n",
              "\n",
              "    .dataframe tbody tr th {\n",
              "        vertical-align: top;\n",
              "    }\n",
              "\n",
              "    .dataframe thead th {\n",
              "        text-align: right;\n",
              "    }\n",
              "</style>\n",
              "<table border=\"1\" class=\"dataframe\">\n",
              "  <thead>\n",
              "    <tr style=\"text-align: right;\">\n",
              "      <th></th>\n",
              "      <th>timestamp</th>\n",
              "      <th>visitorid</th>\n",
              "      <th>event</th>\n",
              "      <th>itemid</th>\n",
              "      <th>transactionid</th>\n",
              "    </tr>\n",
              "  </thead>\n",
              "  <tbody>\n",
              "    <tr>\n",
              "      <th>0</th>\n",
              "      <td>1433221332117</td>\n",
              "      <td>257597</td>\n",
              "      <td>view</td>\n",
              "      <td>355908</td>\n",
              "      <td>NaN</td>\n",
              "    </tr>\n",
              "    <tr>\n",
              "      <th>1</th>\n",
              "      <td>1433224214164</td>\n",
              "      <td>992329</td>\n",
              "      <td>view</td>\n",
              "      <td>248676</td>\n",
              "      <td>NaN</td>\n",
              "    </tr>\n",
              "    <tr>\n",
              "      <th>2</th>\n",
              "      <td>1433221999827</td>\n",
              "      <td>111016</td>\n",
              "      <td>view</td>\n",
              "      <td>318965</td>\n",
              "      <td>NaN</td>\n",
              "    </tr>\n",
              "    <tr>\n",
              "      <th>3</th>\n",
              "      <td>1433221955914</td>\n",
              "      <td>483717</td>\n",
              "      <td>view</td>\n",
              "      <td>253185</td>\n",
              "      <td>NaN</td>\n",
              "    </tr>\n",
              "    <tr>\n",
              "      <th>4</th>\n",
              "      <td>1433221337106</td>\n",
              "      <td>951259</td>\n",
              "      <td>view</td>\n",
              "      <td>367447</td>\n",
              "      <td>NaN</td>\n",
              "    </tr>\n",
              "  </tbody>\n",
              "</table>\n",
              "</div>\n",
              "      <button class=\"colab-df-convert\" onclick=\"convertToInteractive('df-f50bda9d-d831-459f-8d85-64587ed4c91a')\"\n",
              "              title=\"Convert this dataframe to an interactive table.\"\n",
              "              style=\"display:none;\">\n",
              "        \n",
              "  <svg xmlns=\"http://www.w3.org/2000/svg\" height=\"24px\"viewBox=\"0 0 24 24\"\n",
              "       width=\"24px\">\n",
              "    <path d=\"M0 0h24v24H0V0z\" fill=\"none\"/>\n",
              "    <path d=\"M18.56 5.44l.94 2.06.94-2.06 2.06-.94-2.06-.94-.94-2.06-.94 2.06-2.06.94zm-11 1L8.5 8.5l.94-2.06 2.06-.94-2.06-.94L8.5 2.5l-.94 2.06-2.06.94zm10 10l.94 2.06.94-2.06 2.06-.94-2.06-.94-.94-2.06-.94 2.06-2.06.94z\"/><path d=\"M17.41 7.96l-1.37-1.37c-.4-.4-.92-.59-1.43-.59-.52 0-1.04.2-1.43.59L10.3 9.45l-7.72 7.72c-.78.78-.78 2.05 0 2.83L4 21.41c.39.39.9.59 1.41.59.51 0 1.02-.2 1.41-.59l7.78-7.78 2.81-2.81c.8-.78.8-2.07 0-2.86zM5.41 20L4 18.59l7.72-7.72 1.47 1.35L5.41 20z\"/>\n",
              "  </svg>\n",
              "      </button>\n",
              "      \n",
              "  <style>\n",
              "    .colab-df-container {\n",
              "      display:flex;\n",
              "      flex-wrap:wrap;\n",
              "      gap: 12px;\n",
              "    }\n",
              "\n",
              "    .colab-df-convert {\n",
              "      background-color: #E8F0FE;\n",
              "      border: none;\n",
              "      border-radius: 50%;\n",
              "      cursor: pointer;\n",
              "      display: none;\n",
              "      fill: #1967D2;\n",
              "      height: 32px;\n",
              "      padding: 0 0 0 0;\n",
              "      width: 32px;\n",
              "    }\n",
              "\n",
              "    .colab-df-convert:hover {\n",
              "      background-color: #E2EBFA;\n",
              "      box-shadow: 0px 1px 2px rgba(60, 64, 67, 0.3), 0px 1px 3px 1px rgba(60, 64, 67, 0.15);\n",
              "      fill: #174EA6;\n",
              "    }\n",
              "\n",
              "    [theme=dark] .colab-df-convert {\n",
              "      background-color: #3B4455;\n",
              "      fill: #D2E3FC;\n",
              "    }\n",
              "\n",
              "    [theme=dark] .colab-df-convert:hover {\n",
              "      background-color: #434B5C;\n",
              "      box-shadow: 0px 1px 3px 1px rgba(0, 0, 0, 0.15);\n",
              "      filter: drop-shadow(0px 1px 2px rgba(0, 0, 0, 0.3));\n",
              "      fill: #FFFFFF;\n",
              "    }\n",
              "  </style>\n",
              "\n",
              "      <script>\n",
              "        const buttonEl =\n",
              "          document.querySelector('#df-f50bda9d-d831-459f-8d85-64587ed4c91a button.colab-df-convert');\n",
              "        buttonEl.style.display =\n",
              "          google.colab.kernel.accessAllowed ? 'block' : 'none';\n",
              "\n",
              "        async function convertToInteractive(key) {\n",
              "          const element = document.querySelector('#df-f50bda9d-d831-459f-8d85-64587ed4c91a');\n",
              "          const dataTable =\n",
              "            await google.colab.kernel.invokeFunction('convertToInteractive',\n",
              "                                                     [key], {});\n",
              "          if (!dataTable) return;\n",
              "\n",
              "          const docLinkHtml = 'Like what you see? Visit the ' +\n",
              "            '<a target=\"_blank\" href=https://colab.research.google.com/notebooks/data_table.ipynb>data table notebook</a>'\n",
              "            + ' to learn more about interactive tables.';\n",
              "          element.innerHTML = '';\n",
              "          dataTable['output_type'] = 'display_data';\n",
              "          await google.colab.output.renderOutput(dataTable, element);\n",
              "          const docLink = document.createElement('div');\n",
              "          docLink.innerHTML = docLinkHtml;\n",
              "          element.appendChild(docLink);\n",
              "        }\n",
              "      </script>\n",
              "    </div>\n",
              "  </div>\n",
              "  "
            ]
          },
          "metadata": {},
          "execution_count": 53
        }
      ]
    },
    {
      "cell_type": "code",
      "source": [
        "import os\n",
        "from sklearn.preprocessing import LabelEncoder\n",
        "data_directory = 'retailrocket'\n",
        "event_df = pd.read_csv(os.path.join(data_directory, 'events.csv'), header=0)\n",
        "event_df.columns = ['timestamp','session_id','behavior','item_id','transid']\n",
        "###remove transid column\n",
        "event_df =event_df[event_df['transid'].isnull()]\n",
        "event_df = event_df.drop('transid',axis=1)\n",
        "##########remove users with <=2 interactions\n",
        "event_df['valid_session'] = event_df.session_id.map(event_df.groupby('session_id')['item_id'].size() > 2)\n",
        "event_df = event_df.loc[event_df.valid_session].drop('valid_session', axis=1)\n",
        "##########remove items with <=2 interactions\n",
        "event_df['valid_item'] = event_df.item_id.map(event_df.groupby('item_id')['session_id'].size() > 2)\n",
        "event_df = event_df.loc[event_df.valid_item].drop('valid_item', axis=1)\n",
        "######## transform to ids\n",
        "item_encoder = LabelEncoder()\n",
        "session_encoder= LabelEncoder()\n",
        "behavior_encoder=LabelEncoder()\n",
        "event_df['item_id'] = item_encoder.fit_transform(event_df.item_id)\n",
        "event_df['session_id'] = session_encoder.fit_transform(event_df.session_id)\n",
        "event_df['behavior']=behavior_encoder.fit_transform(event_df.behavior)\n",
        "###########sorted by user and timestamp\n",
        "event_df['is_buy']=1-event_df['behavior']\n",
        "event_df = event_df.drop('behavior', axis=1)\n",
        "sorted_events = event_df.sort_values(by=['session_id', 'timestamp'])"
      ],
      "metadata": {
        "id": "evyo3jYzOaop"
      },
      "execution_count": 54,
      "outputs": []
    },
    {
      "cell_type": "code",
      "source": [
        "sorted_events = sorted_events[sorted_events['is_buy'] == 1]"
      ],
      "metadata": {
        "id": "nOhCWylntc8I"
      },
      "execution_count": 55,
      "outputs": []
    },
    {
      "cell_type": "code",
      "source": [
        "sorted_events.head()"
      ],
      "metadata": {
        "id": "9tusq1m2QE9C",
        "colab": {
          "base_uri": "https://localhost:8080/",
          "height": 206
        },
        "outputId": "5afebd09-cbc9-4564-a0f9-e3559ade0297"
      },
      "execution_count": 56,
      "outputs": [
        {
          "output_type": "execute_result",
          "data": {
            "text/plain": [
              "             timestamp  session_id  item_id  is_buy\n",
              "1133190  1440914628202           2     9750       1\n",
              "138668   1433719818230          19    68766       1\n",
              "1357916  1441951937583          20    68635       1\n",
              "1368056  1441951967871          20    27419       1\n",
              "1367869  1441952264613          20     6210       1"
            ],
            "text/html": [
              "\n",
              "  <div id=\"df-712006a0-4a7d-4231-9fa9-312507dfa2fe\">\n",
              "    <div class=\"colab-df-container\">\n",
              "      <div>\n",
              "<style scoped>\n",
              "    .dataframe tbody tr th:only-of-type {\n",
              "        vertical-align: middle;\n",
              "    }\n",
              "\n",
              "    .dataframe tbody tr th {\n",
              "        vertical-align: top;\n",
              "    }\n",
              "\n",
              "    .dataframe thead th {\n",
              "        text-align: right;\n",
              "    }\n",
              "</style>\n",
              "<table border=\"1\" class=\"dataframe\">\n",
              "  <thead>\n",
              "    <tr style=\"text-align: right;\">\n",
              "      <th></th>\n",
              "      <th>timestamp</th>\n",
              "      <th>session_id</th>\n",
              "      <th>item_id</th>\n",
              "      <th>is_buy</th>\n",
              "    </tr>\n",
              "  </thead>\n",
              "  <tbody>\n",
              "    <tr>\n",
              "      <th>1133190</th>\n",
              "      <td>1440914628202</td>\n",
              "      <td>2</td>\n",
              "      <td>9750</td>\n",
              "      <td>1</td>\n",
              "    </tr>\n",
              "    <tr>\n",
              "      <th>138668</th>\n",
              "      <td>1433719818230</td>\n",
              "      <td>19</td>\n",
              "      <td>68766</td>\n",
              "      <td>1</td>\n",
              "    </tr>\n",
              "    <tr>\n",
              "      <th>1357916</th>\n",
              "      <td>1441951937583</td>\n",
              "      <td>20</td>\n",
              "      <td>68635</td>\n",
              "      <td>1</td>\n",
              "    </tr>\n",
              "    <tr>\n",
              "      <th>1368056</th>\n",
              "      <td>1441951967871</td>\n",
              "      <td>20</td>\n",
              "      <td>27419</td>\n",
              "      <td>1</td>\n",
              "    </tr>\n",
              "    <tr>\n",
              "      <th>1367869</th>\n",
              "      <td>1441952264613</td>\n",
              "      <td>20</td>\n",
              "      <td>6210</td>\n",
              "      <td>1</td>\n",
              "    </tr>\n",
              "  </tbody>\n",
              "</table>\n",
              "</div>\n",
              "      <button class=\"colab-df-convert\" onclick=\"convertToInteractive('df-712006a0-4a7d-4231-9fa9-312507dfa2fe')\"\n",
              "              title=\"Convert this dataframe to an interactive table.\"\n",
              "              style=\"display:none;\">\n",
              "        \n",
              "  <svg xmlns=\"http://www.w3.org/2000/svg\" height=\"24px\"viewBox=\"0 0 24 24\"\n",
              "       width=\"24px\">\n",
              "    <path d=\"M0 0h24v24H0V0z\" fill=\"none\"/>\n",
              "    <path d=\"M18.56 5.44l.94 2.06.94-2.06 2.06-.94-2.06-.94-.94-2.06-.94 2.06-2.06.94zm-11 1L8.5 8.5l.94-2.06 2.06-.94-2.06-.94L8.5 2.5l-.94 2.06-2.06.94zm10 10l.94 2.06.94-2.06 2.06-.94-2.06-.94-.94-2.06-.94 2.06-2.06.94z\"/><path d=\"M17.41 7.96l-1.37-1.37c-.4-.4-.92-.59-1.43-.59-.52 0-1.04.2-1.43.59L10.3 9.45l-7.72 7.72c-.78.78-.78 2.05 0 2.83L4 21.41c.39.39.9.59 1.41.59.51 0 1.02-.2 1.41-.59l7.78-7.78 2.81-2.81c.8-.78.8-2.07 0-2.86zM5.41 20L4 18.59l7.72-7.72 1.47 1.35L5.41 20z\"/>\n",
              "  </svg>\n",
              "      </button>\n",
              "      \n",
              "  <style>\n",
              "    .colab-df-container {\n",
              "      display:flex;\n",
              "      flex-wrap:wrap;\n",
              "      gap: 12px;\n",
              "    }\n",
              "\n",
              "    .colab-df-convert {\n",
              "      background-color: #E8F0FE;\n",
              "      border: none;\n",
              "      border-radius: 50%;\n",
              "      cursor: pointer;\n",
              "      display: none;\n",
              "      fill: #1967D2;\n",
              "      height: 32px;\n",
              "      padding: 0 0 0 0;\n",
              "      width: 32px;\n",
              "    }\n",
              "\n",
              "    .colab-df-convert:hover {\n",
              "      background-color: #E2EBFA;\n",
              "      box-shadow: 0px 1px 2px rgba(60, 64, 67, 0.3), 0px 1px 3px 1px rgba(60, 64, 67, 0.15);\n",
              "      fill: #174EA6;\n",
              "    }\n",
              "\n",
              "    [theme=dark] .colab-df-convert {\n",
              "      background-color: #3B4455;\n",
              "      fill: #D2E3FC;\n",
              "    }\n",
              "\n",
              "    [theme=dark] .colab-df-convert:hover {\n",
              "      background-color: #434B5C;\n",
              "      box-shadow: 0px 1px 3px 1px rgba(0, 0, 0, 0.15);\n",
              "      filter: drop-shadow(0px 1px 2px rgba(0, 0, 0, 0.3));\n",
              "      fill: #FFFFFF;\n",
              "    }\n",
              "  </style>\n",
              "\n",
              "      <script>\n",
              "        const buttonEl =\n",
              "          document.querySelector('#df-712006a0-4a7d-4231-9fa9-312507dfa2fe button.colab-df-convert');\n",
              "        buttonEl.style.display =\n",
              "          google.colab.kernel.accessAllowed ? 'block' : 'none';\n",
              "\n",
              "        async function convertToInteractive(key) {\n",
              "          const element = document.querySelector('#df-712006a0-4a7d-4231-9fa9-312507dfa2fe');\n",
              "          const dataTable =\n",
              "            await google.colab.kernel.invokeFunction('convertToInteractive',\n",
              "                                                     [key], {});\n",
              "          if (!dataTable) return;\n",
              "\n",
              "          const docLinkHtml = 'Like what you see? Visit the ' +\n",
              "            '<a target=\"_blank\" href=https://colab.research.google.com/notebooks/data_table.ipynb>data table notebook</a>'\n",
              "            + ' to learn more about interactive tables.';\n",
              "          element.innerHTML = '';\n",
              "          dataTable['output_type'] = 'display_data';\n",
              "          await google.colab.output.renderOutput(dataTable, element);\n",
              "          const docLink = document.createElement('div');\n",
              "          docLink.innerHTML = docLinkHtml;\n",
              "          element.appendChild(docLink);\n",
              "        }\n",
              "      </script>\n",
              "    </div>\n",
              "  </div>\n",
              "  "
            ]
          },
          "metadata": {},
          "execution_count": 56
        }
      ]
    },
    {
      "cell_type": "code",
      "source": [
        "sorted_events['rating'] = sorted_events['is_buy']"
      ],
      "metadata": {
        "id": "kze5mi8LAY8m"
      },
      "execution_count": 58,
      "outputs": []
    },
    {
      "cell_type": "code",
      "source": [
        "sarsRetail = sar.SAR('session_id','item_id','is_buy','timestamp',timedecay_formula=True)"
      ],
      "metadata": {
        "id": "ucEwZBM2ToB0"
      },
      "execution_count": 59,
      "outputs": []
    },
    {
      "cell_type": "code",
      "source": [
        "sorted_events = sorted_events.drop_duplicates()"
      ],
      "metadata": {
        "id": "cXioL8GPsvO5"
      },
      "execution_count": 60,
      "outputs": []
    },
    {
      "cell_type": "code",
      "source": [
        "sorted_events.sort_values(['timestamp'])"
      ],
      "metadata": {
        "colab": {
          "base_uri": "https://localhost:8080/",
          "height": 424
        },
        "id": "r7RtMih5s1AR",
        "outputId": "42d94983-349b-4207-974f-b5461986f853"
      },
      "execution_count": 61,
      "outputs": [
        {
          "output_type": "execute_result",
          "data": {
            "text/plain": [
              "             timestamp  session_id  item_id  is_buy  rating\n",
              "1462974  1430622004384       96423    45296       1       1\n",
              "1463435  1430622029427       96423    45296       1       1\n",
              "1465262  1430622085008      136274    51456       1       1\n",
              "1463439  1430622240603       36191    18997       1       1\n",
              "1465260  1430622602006       44393    52119       1       1\n",
              "...                ...         ...      ...     ...     ...\n",
              "1456546  1442544102108       21274     3212       1       1\n",
              "1459656  1442544320572      154193    20334       1       1\n",
              "1456746  1442544322842      154193    20334       1       1\n",
              "1454076  1442544649803       79612    28344       1       1\n",
              "1461187  1442544649834       79612    28344       1       1\n",
              "\n",
              "[56905 rows x 5 columns]"
            ],
            "text/html": [
              "\n",
              "  <div id=\"df-c1cf2c8a-0deb-4c86-91f1-7b14e2bdcc91\">\n",
              "    <div class=\"colab-df-container\">\n",
              "      <div>\n",
              "<style scoped>\n",
              "    .dataframe tbody tr th:only-of-type {\n",
              "        vertical-align: middle;\n",
              "    }\n",
              "\n",
              "    .dataframe tbody tr th {\n",
              "        vertical-align: top;\n",
              "    }\n",
              "\n",
              "    .dataframe thead th {\n",
              "        text-align: right;\n",
              "    }\n",
              "</style>\n",
              "<table border=\"1\" class=\"dataframe\">\n",
              "  <thead>\n",
              "    <tr style=\"text-align: right;\">\n",
              "      <th></th>\n",
              "      <th>timestamp</th>\n",
              "      <th>session_id</th>\n",
              "      <th>item_id</th>\n",
              "      <th>is_buy</th>\n",
              "      <th>rating</th>\n",
              "    </tr>\n",
              "  </thead>\n",
              "  <tbody>\n",
              "    <tr>\n",
              "      <th>1462974</th>\n",
              "      <td>1430622004384</td>\n",
              "      <td>96423</td>\n",
              "      <td>45296</td>\n",
              "      <td>1</td>\n",
              "      <td>1</td>\n",
              "    </tr>\n",
              "    <tr>\n",
              "      <th>1463435</th>\n",
              "      <td>1430622029427</td>\n",
              "      <td>96423</td>\n",
              "      <td>45296</td>\n",
              "      <td>1</td>\n",
              "      <td>1</td>\n",
              "    </tr>\n",
              "    <tr>\n",
              "      <th>1465262</th>\n",
              "      <td>1430622085008</td>\n",
              "      <td>136274</td>\n",
              "      <td>51456</td>\n",
              "      <td>1</td>\n",
              "      <td>1</td>\n",
              "    </tr>\n",
              "    <tr>\n",
              "      <th>1463439</th>\n",
              "      <td>1430622240603</td>\n",
              "      <td>36191</td>\n",
              "      <td>18997</td>\n",
              "      <td>1</td>\n",
              "      <td>1</td>\n",
              "    </tr>\n",
              "    <tr>\n",
              "      <th>1465260</th>\n",
              "      <td>1430622602006</td>\n",
              "      <td>44393</td>\n",
              "      <td>52119</td>\n",
              "      <td>1</td>\n",
              "      <td>1</td>\n",
              "    </tr>\n",
              "    <tr>\n",
              "      <th>...</th>\n",
              "      <td>...</td>\n",
              "      <td>...</td>\n",
              "      <td>...</td>\n",
              "      <td>...</td>\n",
              "      <td>...</td>\n",
              "    </tr>\n",
              "    <tr>\n",
              "      <th>1456546</th>\n",
              "      <td>1442544102108</td>\n",
              "      <td>21274</td>\n",
              "      <td>3212</td>\n",
              "      <td>1</td>\n",
              "      <td>1</td>\n",
              "    </tr>\n",
              "    <tr>\n",
              "      <th>1459656</th>\n",
              "      <td>1442544320572</td>\n",
              "      <td>154193</td>\n",
              "      <td>20334</td>\n",
              "      <td>1</td>\n",
              "      <td>1</td>\n",
              "    </tr>\n",
              "    <tr>\n",
              "      <th>1456746</th>\n",
              "      <td>1442544322842</td>\n",
              "      <td>154193</td>\n",
              "      <td>20334</td>\n",
              "      <td>1</td>\n",
              "      <td>1</td>\n",
              "    </tr>\n",
              "    <tr>\n",
              "      <th>1454076</th>\n",
              "      <td>1442544649803</td>\n",
              "      <td>79612</td>\n",
              "      <td>28344</td>\n",
              "      <td>1</td>\n",
              "      <td>1</td>\n",
              "    </tr>\n",
              "    <tr>\n",
              "      <th>1461187</th>\n",
              "      <td>1442544649834</td>\n",
              "      <td>79612</td>\n",
              "      <td>28344</td>\n",
              "      <td>1</td>\n",
              "      <td>1</td>\n",
              "    </tr>\n",
              "  </tbody>\n",
              "</table>\n",
              "<p>56905 rows × 5 columns</p>\n",
              "</div>\n",
              "      <button class=\"colab-df-convert\" onclick=\"convertToInteractive('df-c1cf2c8a-0deb-4c86-91f1-7b14e2bdcc91')\"\n",
              "              title=\"Convert this dataframe to an interactive table.\"\n",
              "              style=\"display:none;\">\n",
              "        \n",
              "  <svg xmlns=\"http://www.w3.org/2000/svg\" height=\"24px\"viewBox=\"0 0 24 24\"\n",
              "       width=\"24px\">\n",
              "    <path d=\"M0 0h24v24H0V0z\" fill=\"none\"/>\n",
              "    <path d=\"M18.56 5.44l.94 2.06.94-2.06 2.06-.94-2.06-.94-.94-2.06-.94 2.06-2.06.94zm-11 1L8.5 8.5l.94-2.06 2.06-.94-2.06-.94L8.5 2.5l-.94 2.06-2.06.94zm10 10l.94 2.06.94-2.06 2.06-.94-2.06-.94-.94-2.06-.94 2.06-2.06.94z\"/><path d=\"M17.41 7.96l-1.37-1.37c-.4-.4-.92-.59-1.43-.59-.52 0-1.04.2-1.43.59L10.3 9.45l-7.72 7.72c-.78.78-.78 2.05 0 2.83L4 21.41c.39.39.9.59 1.41.59.51 0 1.02-.2 1.41-.59l7.78-7.78 2.81-2.81c.8-.78.8-2.07 0-2.86zM5.41 20L4 18.59l7.72-7.72 1.47 1.35L5.41 20z\"/>\n",
              "  </svg>\n",
              "      </button>\n",
              "      \n",
              "  <style>\n",
              "    .colab-df-container {\n",
              "      display:flex;\n",
              "      flex-wrap:wrap;\n",
              "      gap: 12px;\n",
              "    }\n",
              "\n",
              "    .colab-df-convert {\n",
              "      background-color: #E8F0FE;\n",
              "      border: none;\n",
              "      border-radius: 50%;\n",
              "      cursor: pointer;\n",
              "      display: none;\n",
              "      fill: #1967D2;\n",
              "      height: 32px;\n",
              "      padding: 0 0 0 0;\n",
              "      width: 32px;\n",
              "    }\n",
              "\n",
              "    .colab-df-convert:hover {\n",
              "      background-color: #E2EBFA;\n",
              "      box-shadow: 0px 1px 2px rgba(60, 64, 67, 0.3), 0px 1px 3px 1px rgba(60, 64, 67, 0.15);\n",
              "      fill: #174EA6;\n",
              "    }\n",
              "\n",
              "    [theme=dark] .colab-df-convert {\n",
              "      background-color: #3B4455;\n",
              "      fill: #D2E3FC;\n",
              "    }\n",
              "\n",
              "    [theme=dark] .colab-df-convert:hover {\n",
              "      background-color: #434B5C;\n",
              "      box-shadow: 0px 1px 3px 1px rgba(0, 0, 0, 0.15);\n",
              "      filter: drop-shadow(0px 1px 2px rgba(0, 0, 0, 0.3));\n",
              "      fill: #FFFFFF;\n",
              "    }\n",
              "  </style>\n",
              "\n",
              "      <script>\n",
              "        const buttonEl =\n",
              "          document.querySelector('#df-c1cf2c8a-0deb-4c86-91f1-7b14e2bdcc91 button.colab-df-convert');\n",
              "        buttonEl.style.display =\n",
              "          google.colab.kernel.accessAllowed ? 'block' : 'none';\n",
              "\n",
              "        async function convertToInteractive(key) {\n",
              "          const element = document.querySelector('#df-c1cf2c8a-0deb-4c86-91f1-7b14e2bdcc91');\n",
              "          const dataTable =\n",
              "            await google.colab.kernel.invokeFunction('convertToInteractive',\n",
              "                                                     [key], {});\n",
              "          if (!dataTable) return;\n",
              "\n",
              "          const docLinkHtml = 'Like what you see? Visit the ' +\n",
              "            '<a target=\"_blank\" href=https://colab.research.google.com/notebooks/data_table.ipynb>data table notebook</a>'\n",
              "            + ' to learn more about interactive tables.';\n",
              "          element.innerHTML = '';\n",
              "          dataTable['output_type'] = 'display_data';\n",
              "          await google.colab.output.renderOutput(dataTable, element);\n",
              "          const docLink = document.createElement('div');\n",
              "          docLink.innerHTML = docLinkHtml;\n",
              "          element.appendChild(docLink);\n",
              "        }\n",
              "      </script>\n",
              "    </div>\n",
              "  </div>\n",
              "  "
            ]
          },
          "metadata": {},
          "execution_count": 61
        }
      ]
    },
    {
      "cell_type": "code",
      "source": [
        "sorted_events[sorted_events.duplicated() == True]"
      ],
      "metadata": {
        "colab": {
          "base_uri": "https://localhost:8080/",
          "height": 49
        },
        "id": "8JHxtPMPr7y5",
        "outputId": "f7df6706-1739-4cfa-e1af-81d5abf6ac75"
      },
      "execution_count": 62,
      "outputs": [
        {
          "output_type": "execute_result",
          "data": {
            "text/plain": [
              "Empty DataFrame\n",
              "Columns: [timestamp, session_id, item_id, is_buy, rating]\n",
              "Index: []"
            ],
            "text/html": [
              "\n",
              "  <div id=\"df-f7a6dc6c-4a99-4f66-a50e-18ec58eb3ab2\">\n",
              "    <div class=\"colab-df-container\">\n",
              "      <div>\n",
              "<style scoped>\n",
              "    .dataframe tbody tr th:only-of-type {\n",
              "        vertical-align: middle;\n",
              "    }\n",
              "\n",
              "    .dataframe tbody tr th {\n",
              "        vertical-align: top;\n",
              "    }\n",
              "\n",
              "    .dataframe thead th {\n",
              "        text-align: right;\n",
              "    }\n",
              "</style>\n",
              "<table border=\"1\" class=\"dataframe\">\n",
              "  <thead>\n",
              "    <tr style=\"text-align: right;\">\n",
              "      <th></th>\n",
              "      <th>timestamp</th>\n",
              "      <th>session_id</th>\n",
              "      <th>item_id</th>\n",
              "      <th>is_buy</th>\n",
              "      <th>rating</th>\n",
              "    </tr>\n",
              "  </thead>\n",
              "  <tbody>\n",
              "  </tbody>\n",
              "</table>\n",
              "</div>\n",
              "      <button class=\"colab-df-convert\" onclick=\"convertToInteractive('df-f7a6dc6c-4a99-4f66-a50e-18ec58eb3ab2')\"\n",
              "              title=\"Convert this dataframe to an interactive table.\"\n",
              "              style=\"display:none;\">\n",
              "        \n",
              "  <svg xmlns=\"http://www.w3.org/2000/svg\" height=\"24px\"viewBox=\"0 0 24 24\"\n",
              "       width=\"24px\">\n",
              "    <path d=\"M0 0h24v24H0V0z\" fill=\"none\"/>\n",
              "    <path d=\"M18.56 5.44l.94 2.06.94-2.06 2.06-.94-2.06-.94-.94-2.06-.94 2.06-2.06.94zm-11 1L8.5 8.5l.94-2.06 2.06-.94-2.06-.94L8.5 2.5l-.94 2.06-2.06.94zm10 10l.94 2.06.94-2.06 2.06-.94-2.06-.94-.94-2.06-.94 2.06-2.06.94z\"/><path d=\"M17.41 7.96l-1.37-1.37c-.4-.4-.92-.59-1.43-.59-.52 0-1.04.2-1.43.59L10.3 9.45l-7.72 7.72c-.78.78-.78 2.05 0 2.83L4 21.41c.39.39.9.59 1.41.59.51 0 1.02-.2 1.41-.59l7.78-7.78 2.81-2.81c.8-.78.8-2.07 0-2.86zM5.41 20L4 18.59l7.72-7.72 1.47 1.35L5.41 20z\"/>\n",
              "  </svg>\n",
              "      </button>\n",
              "      \n",
              "  <style>\n",
              "    .colab-df-container {\n",
              "      display:flex;\n",
              "      flex-wrap:wrap;\n",
              "      gap: 12px;\n",
              "    }\n",
              "\n",
              "    .colab-df-convert {\n",
              "      background-color: #E8F0FE;\n",
              "      border: none;\n",
              "      border-radius: 50%;\n",
              "      cursor: pointer;\n",
              "      display: none;\n",
              "      fill: #1967D2;\n",
              "      height: 32px;\n",
              "      padding: 0 0 0 0;\n",
              "      width: 32px;\n",
              "    }\n",
              "\n",
              "    .colab-df-convert:hover {\n",
              "      background-color: #E2EBFA;\n",
              "      box-shadow: 0px 1px 2px rgba(60, 64, 67, 0.3), 0px 1px 3px 1px rgba(60, 64, 67, 0.15);\n",
              "      fill: #174EA6;\n",
              "    }\n",
              "\n",
              "    [theme=dark] .colab-df-convert {\n",
              "      background-color: #3B4455;\n",
              "      fill: #D2E3FC;\n",
              "    }\n",
              "\n",
              "    [theme=dark] .colab-df-convert:hover {\n",
              "      background-color: #434B5C;\n",
              "      box-shadow: 0px 1px 3px 1px rgba(0, 0, 0, 0.15);\n",
              "      filter: drop-shadow(0px 1px 2px rgba(0, 0, 0, 0.3));\n",
              "      fill: #FFFFFF;\n",
              "    }\n",
              "  </style>\n",
              "\n",
              "      <script>\n",
              "        const buttonEl =\n",
              "          document.querySelector('#df-f7a6dc6c-4a99-4f66-a50e-18ec58eb3ab2 button.colab-df-convert');\n",
              "        buttonEl.style.display =\n",
              "          google.colab.kernel.accessAllowed ? 'block' : 'none';\n",
              "\n",
              "        async function convertToInteractive(key) {\n",
              "          const element = document.querySelector('#df-f7a6dc6c-4a99-4f66-a50e-18ec58eb3ab2');\n",
              "          const dataTable =\n",
              "            await google.colab.kernel.invokeFunction('convertToInteractive',\n",
              "                                                     [key], {});\n",
              "          if (!dataTable) return;\n",
              "\n",
              "          const docLinkHtml = 'Like what you see? Visit the ' +\n",
              "            '<a target=\"_blank\" href=https://colab.research.google.com/notebooks/data_table.ipynb>data table notebook</a>'\n",
              "            + ' to learn more about interactive tables.';\n",
              "          element.innerHTML = '';\n",
              "          dataTable['output_type'] = 'display_data';\n",
              "          await google.colab.output.renderOutput(dataTable, element);\n",
              "          const docLink = document.createElement('div');\n",
              "          docLink.innerHTML = docLinkHtml;\n",
              "          element.appendChild(docLink);\n",
              "        }\n",
              "      </script>\n",
              "    </div>\n",
              "  </div>\n",
              "  "
            ]
          },
          "metadata": {},
          "execution_count": 62
        }
      ]
    },
    {
      "cell_type": "code",
      "source": [
        "sorted_events = sorted_events.reset_index()"
      ],
      "metadata": {
        "id": "87FN7bCoGUmh"
      },
      "execution_count": 108,
      "outputs": []
    },
    {
      "cell_type": "code",
      "source": [
        "sarsRetail.fit(sorted_events)"
      ],
      "metadata": {
        "id": "jN11IhOtr3xs"
      },
      "execution_count": 63,
      "outputs": []
    },
    {
      "cell_type": "code",
      "source": [
        "usersdf = sorted_events.drop_duplicates(subset = \"session_id\")"
      ],
      "metadata": {
        "id": "VIbY1GOuAqH7"
      },
      "execution_count": 64,
      "outputs": []
    },
    {
      "cell_type": "code",
      "source": [
        "usersdf"
      ],
      "metadata": {
        "colab": {
          "base_uri": "https://localhost:8080/",
          "height": 424
        },
        "id": "Pm3utcy4BOfd",
        "outputId": "7ffee4c7-4ad1-4e41-aebe-c3f0e6716e59"
      },
      "execution_count": 80,
      "outputs": [
        {
          "output_type": "execute_result",
          "data": {
            "text/plain": [
              "             timestamp  session_id  item_id  is_buy  rating\n",
              "1133190  1440914628202           2     9750       1       1\n",
              "138668   1433719818230          19    68766       1       1\n",
              "1357916  1441951937583          20    68635       1       1\n",
              "848067   1439599816912          24     1436       1       1\n",
              "1413091  1442290183293          25      892       1       1\n",
              "...                ...         ...      ...     ...     ...\n",
              "667959   1438729535724      195468    54945       1       1\n",
              "2325662  1436804352069      195471     4305       1       1\n",
              "1164581  1441098006805      195501    28748       1       1\n",
              "466922   1435098167672      195503    59333       1       1\n",
              "2013483  1432952383859      195517    16239       1       1\n",
              "\n",
              "[26736 rows x 5 columns]"
            ],
            "text/html": [
              "\n",
              "  <div id=\"df-b2894543-69b6-43b2-a2d3-7796702e72b8\">\n",
              "    <div class=\"colab-df-container\">\n",
              "      <div>\n",
              "<style scoped>\n",
              "    .dataframe tbody tr th:only-of-type {\n",
              "        vertical-align: middle;\n",
              "    }\n",
              "\n",
              "    .dataframe tbody tr th {\n",
              "        vertical-align: top;\n",
              "    }\n",
              "\n",
              "    .dataframe thead th {\n",
              "        text-align: right;\n",
              "    }\n",
              "</style>\n",
              "<table border=\"1\" class=\"dataframe\">\n",
              "  <thead>\n",
              "    <tr style=\"text-align: right;\">\n",
              "      <th></th>\n",
              "      <th>timestamp</th>\n",
              "      <th>session_id</th>\n",
              "      <th>item_id</th>\n",
              "      <th>is_buy</th>\n",
              "      <th>rating</th>\n",
              "    </tr>\n",
              "  </thead>\n",
              "  <tbody>\n",
              "    <tr>\n",
              "      <th>1133190</th>\n",
              "      <td>1440914628202</td>\n",
              "      <td>2</td>\n",
              "      <td>9750</td>\n",
              "      <td>1</td>\n",
              "      <td>1</td>\n",
              "    </tr>\n",
              "    <tr>\n",
              "      <th>138668</th>\n",
              "      <td>1433719818230</td>\n",
              "      <td>19</td>\n",
              "      <td>68766</td>\n",
              "      <td>1</td>\n",
              "      <td>1</td>\n",
              "    </tr>\n",
              "    <tr>\n",
              "      <th>1357916</th>\n",
              "      <td>1441951937583</td>\n",
              "      <td>20</td>\n",
              "      <td>68635</td>\n",
              "      <td>1</td>\n",
              "      <td>1</td>\n",
              "    </tr>\n",
              "    <tr>\n",
              "      <th>848067</th>\n",
              "      <td>1439599816912</td>\n",
              "      <td>24</td>\n",
              "      <td>1436</td>\n",
              "      <td>1</td>\n",
              "      <td>1</td>\n",
              "    </tr>\n",
              "    <tr>\n",
              "      <th>1413091</th>\n",
              "      <td>1442290183293</td>\n",
              "      <td>25</td>\n",
              "      <td>892</td>\n",
              "      <td>1</td>\n",
              "      <td>1</td>\n",
              "    </tr>\n",
              "    <tr>\n",
              "      <th>...</th>\n",
              "      <td>...</td>\n",
              "      <td>...</td>\n",
              "      <td>...</td>\n",
              "      <td>...</td>\n",
              "      <td>...</td>\n",
              "    </tr>\n",
              "    <tr>\n",
              "      <th>667959</th>\n",
              "      <td>1438729535724</td>\n",
              "      <td>195468</td>\n",
              "      <td>54945</td>\n",
              "      <td>1</td>\n",
              "      <td>1</td>\n",
              "    </tr>\n",
              "    <tr>\n",
              "      <th>2325662</th>\n",
              "      <td>1436804352069</td>\n",
              "      <td>195471</td>\n",
              "      <td>4305</td>\n",
              "      <td>1</td>\n",
              "      <td>1</td>\n",
              "    </tr>\n",
              "    <tr>\n",
              "      <th>1164581</th>\n",
              "      <td>1441098006805</td>\n",
              "      <td>195501</td>\n",
              "      <td>28748</td>\n",
              "      <td>1</td>\n",
              "      <td>1</td>\n",
              "    </tr>\n",
              "    <tr>\n",
              "      <th>466922</th>\n",
              "      <td>1435098167672</td>\n",
              "      <td>195503</td>\n",
              "      <td>59333</td>\n",
              "      <td>1</td>\n",
              "      <td>1</td>\n",
              "    </tr>\n",
              "    <tr>\n",
              "      <th>2013483</th>\n",
              "      <td>1432952383859</td>\n",
              "      <td>195517</td>\n",
              "      <td>16239</td>\n",
              "      <td>1</td>\n",
              "      <td>1</td>\n",
              "    </tr>\n",
              "  </tbody>\n",
              "</table>\n",
              "<p>26736 rows × 5 columns</p>\n",
              "</div>\n",
              "      <button class=\"colab-df-convert\" onclick=\"convertToInteractive('df-b2894543-69b6-43b2-a2d3-7796702e72b8')\"\n",
              "              title=\"Convert this dataframe to an interactive table.\"\n",
              "              style=\"display:none;\">\n",
              "        \n",
              "  <svg xmlns=\"http://www.w3.org/2000/svg\" height=\"24px\"viewBox=\"0 0 24 24\"\n",
              "       width=\"24px\">\n",
              "    <path d=\"M0 0h24v24H0V0z\" fill=\"none\"/>\n",
              "    <path d=\"M18.56 5.44l.94 2.06.94-2.06 2.06-.94-2.06-.94-.94-2.06-.94 2.06-2.06.94zm-11 1L8.5 8.5l.94-2.06 2.06-.94-2.06-.94L8.5 2.5l-.94 2.06-2.06.94zm10 10l.94 2.06.94-2.06 2.06-.94-2.06-.94-.94-2.06-.94 2.06-2.06.94z\"/><path d=\"M17.41 7.96l-1.37-1.37c-.4-.4-.92-.59-1.43-.59-.52 0-1.04.2-1.43.59L10.3 9.45l-7.72 7.72c-.78.78-.78 2.05 0 2.83L4 21.41c.39.39.9.59 1.41.59.51 0 1.02-.2 1.41-.59l7.78-7.78 2.81-2.81c.8-.78.8-2.07 0-2.86zM5.41 20L4 18.59l7.72-7.72 1.47 1.35L5.41 20z\"/>\n",
              "  </svg>\n",
              "      </button>\n",
              "      \n",
              "  <style>\n",
              "    .colab-df-container {\n",
              "      display:flex;\n",
              "      flex-wrap:wrap;\n",
              "      gap: 12px;\n",
              "    }\n",
              "\n",
              "    .colab-df-convert {\n",
              "      background-color: #E8F0FE;\n",
              "      border: none;\n",
              "      border-radius: 50%;\n",
              "      cursor: pointer;\n",
              "      display: none;\n",
              "      fill: #1967D2;\n",
              "      height: 32px;\n",
              "      padding: 0 0 0 0;\n",
              "      width: 32px;\n",
              "    }\n",
              "\n",
              "    .colab-df-convert:hover {\n",
              "      background-color: #E2EBFA;\n",
              "      box-shadow: 0px 1px 2px rgba(60, 64, 67, 0.3), 0px 1px 3px 1px rgba(60, 64, 67, 0.15);\n",
              "      fill: #174EA6;\n",
              "    }\n",
              "\n",
              "    [theme=dark] .colab-df-convert {\n",
              "      background-color: #3B4455;\n",
              "      fill: #D2E3FC;\n",
              "    }\n",
              "\n",
              "    [theme=dark] .colab-df-convert:hover {\n",
              "      background-color: #434B5C;\n",
              "      box-shadow: 0px 1px 3px 1px rgba(0, 0, 0, 0.15);\n",
              "      filter: drop-shadow(0px 1px 2px rgba(0, 0, 0, 0.3));\n",
              "      fill: #FFFFFF;\n",
              "    }\n",
              "  </style>\n",
              "\n",
              "      <script>\n",
              "        const buttonEl =\n",
              "          document.querySelector('#df-b2894543-69b6-43b2-a2d3-7796702e72b8 button.colab-df-convert');\n",
              "        buttonEl.style.display =\n",
              "          google.colab.kernel.accessAllowed ? 'block' : 'none';\n",
              "\n",
              "        async function convertToInteractive(key) {\n",
              "          const element = document.querySelector('#df-b2894543-69b6-43b2-a2d3-7796702e72b8');\n",
              "          const dataTable =\n",
              "            await google.colab.kernel.invokeFunction('convertToInteractive',\n",
              "                                                     [key], {});\n",
              "          if (!dataTable) return;\n",
              "\n",
              "          const docLinkHtml = 'Like what you see? Visit the ' +\n",
              "            '<a target=\"_blank\" href=https://colab.research.google.com/notebooks/data_table.ipynb>data table notebook</a>'\n",
              "            + ' to learn more about interactive tables.';\n",
              "          element.innerHTML = '';\n",
              "          dataTable['output_type'] = 'display_data';\n",
              "          await google.colab.output.renderOutput(dataTable, element);\n",
              "          const docLink = document.createElement('div');\n",
              "          docLink.innerHTML = docLinkHtml;\n",
              "          element.appendChild(docLink);\n",
              "        }\n",
              "      </script>\n",
              "    </div>\n",
              "  </div>\n",
              "  "
            ]
          },
          "metadata": {},
          "execution_count": 80
        }
      ]
    },
    {
      "cell_type": "code",
      "source": [
        "## Chunking reccomendations\n",
        "\n",
        "reccomendationsRetail = pd.DataFrame(columns = [\"session_id\", \"reccomended\"])\n",
        "startidx = 0\n",
        "endidx = 1000\n",
        "while startidx < len(usersdf.index):\n",
        "  batch = sarsRetail.recommend_k_items(usersdf[startidx:endidx],8).groupby('session_id')['item_id'].apply(list).reset_index(name='reccomended')\n",
        "  reccomendationsRetail = pd.concat([reccomendationsRetail, batch])\n",
        "  startidx = endidx\n",
        "  endidx += 1000"
      ],
      "metadata": {
        "id": "fj5l8MRwBdOP"
      },
      "execution_count": 127,
      "outputs": []
    },
    {
      "cell_type": "code",
      "source": [
        "len(reccomendationsRetail.index)"
      ],
      "metadata": {
        "colab": {
          "base_uri": "https://localhost:8080/"
        },
        "id": "YIimsh_NBxYX",
        "outputId": "3a332f8d-b930-4761-8413-a3d305734b67"
      },
      "execution_count": 128,
      "outputs": [
        {
          "output_type": "execute_result",
          "data": {
            "text/plain": [
              "26736"
            ]
          },
          "metadata": {},
          "execution_count": 128
        }
      ]
    },
    {
      "cell_type": "code",
      "source": [
        "reccomendationsRetail"
      ],
      "metadata": {
        "colab": {
          "base_uri": "https://localhost:8080/",
          "height": 424
        },
        "id": "w1KnUPsdDlbD",
        "outputId": "5d592ce3-6a0c-4a97-91bb-7841cbfc5f21"
      },
      "execution_count": 83,
      "outputs": [
        {
          "output_type": "execute_result",
          "data": {
            "text/plain": [
              "    session_id                                        reccomended\n",
              "0            2  [9750, 1949, 42535, 35902, 11704, 48174, 64530...\n",
              "1           19  [15900, 22302, 19614, 3447, 43420, 25932, 6148...\n",
              "2           20  [6210, 27419, 68635, 59354, 61480, 60681, 2593...\n",
              "3           24  [15900, 22302, 19614, 3447, 43420, 25932, 6148...\n",
              "4           25  [892, 22302, 19614, 3447, 17288, 43420, 61480,...\n",
              "..         ...                                                ...\n",
              "731     195468  [15900, 22302, 19614, 3447, 43420, 25932, 6148...\n",
              "732     195471  [15900, 22302, 19614, 3447, 43420, 25932, 6148...\n",
              "733     195501  [28748, 51859, 3334, 60792, 31192, 33621, 3007...\n",
              "734     195503  [15900, 22302, 19614, 3447, 43420, 25932, 6148...\n",
              "735     195517  [15900, 22302, 19614, 3447, 43420, 25932, 6148...\n",
              "\n",
              "[26736 rows x 2 columns]"
            ],
            "text/html": [
              "\n",
              "  <div id=\"df-b1a0a605-6573-40b1-ad51-773dbc54f70c\">\n",
              "    <div class=\"colab-df-container\">\n",
              "      <div>\n",
              "<style scoped>\n",
              "    .dataframe tbody tr th:only-of-type {\n",
              "        vertical-align: middle;\n",
              "    }\n",
              "\n",
              "    .dataframe tbody tr th {\n",
              "        vertical-align: top;\n",
              "    }\n",
              "\n",
              "    .dataframe thead th {\n",
              "        text-align: right;\n",
              "    }\n",
              "</style>\n",
              "<table border=\"1\" class=\"dataframe\">\n",
              "  <thead>\n",
              "    <tr style=\"text-align: right;\">\n",
              "      <th></th>\n",
              "      <th>session_id</th>\n",
              "      <th>reccomended</th>\n",
              "    </tr>\n",
              "  </thead>\n",
              "  <tbody>\n",
              "    <tr>\n",
              "      <th>0</th>\n",
              "      <td>2</td>\n",
              "      <td>[9750, 1949, 42535, 35902, 11704, 48174, 64530...</td>\n",
              "    </tr>\n",
              "    <tr>\n",
              "      <th>1</th>\n",
              "      <td>19</td>\n",
              "      <td>[15900, 22302, 19614, 3447, 43420, 25932, 6148...</td>\n",
              "    </tr>\n",
              "    <tr>\n",
              "      <th>2</th>\n",
              "      <td>20</td>\n",
              "      <td>[6210, 27419, 68635, 59354, 61480, 60681, 2593...</td>\n",
              "    </tr>\n",
              "    <tr>\n",
              "      <th>3</th>\n",
              "      <td>24</td>\n",
              "      <td>[15900, 22302, 19614, 3447, 43420, 25932, 6148...</td>\n",
              "    </tr>\n",
              "    <tr>\n",
              "      <th>4</th>\n",
              "      <td>25</td>\n",
              "      <td>[892, 22302, 19614, 3447, 17288, 43420, 61480,...</td>\n",
              "    </tr>\n",
              "    <tr>\n",
              "      <th>...</th>\n",
              "      <td>...</td>\n",
              "      <td>...</td>\n",
              "    </tr>\n",
              "    <tr>\n",
              "      <th>731</th>\n",
              "      <td>195468</td>\n",
              "      <td>[15900, 22302, 19614, 3447, 43420, 25932, 6148...</td>\n",
              "    </tr>\n",
              "    <tr>\n",
              "      <th>732</th>\n",
              "      <td>195471</td>\n",
              "      <td>[15900, 22302, 19614, 3447, 43420, 25932, 6148...</td>\n",
              "    </tr>\n",
              "    <tr>\n",
              "      <th>733</th>\n",
              "      <td>195501</td>\n",
              "      <td>[28748, 51859, 3334, 60792, 31192, 33621, 3007...</td>\n",
              "    </tr>\n",
              "    <tr>\n",
              "      <th>734</th>\n",
              "      <td>195503</td>\n",
              "      <td>[15900, 22302, 19614, 3447, 43420, 25932, 6148...</td>\n",
              "    </tr>\n",
              "    <tr>\n",
              "      <th>735</th>\n",
              "      <td>195517</td>\n",
              "      <td>[15900, 22302, 19614, 3447, 43420, 25932, 6148...</td>\n",
              "    </tr>\n",
              "  </tbody>\n",
              "</table>\n",
              "<p>26736 rows × 2 columns</p>\n",
              "</div>\n",
              "      <button class=\"colab-df-convert\" onclick=\"convertToInteractive('df-b1a0a605-6573-40b1-ad51-773dbc54f70c')\"\n",
              "              title=\"Convert this dataframe to an interactive table.\"\n",
              "              style=\"display:none;\">\n",
              "        \n",
              "  <svg xmlns=\"http://www.w3.org/2000/svg\" height=\"24px\"viewBox=\"0 0 24 24\"\n",
              "       width=\"24px\">\n",
              "    <path d=\"M0 0h24v24H0V0z\" fill=\"none\"/>\n",
              "    <path d=\"M18.56 5.44l.94 2.06.94-2.06 2.06-.94-2.06-.94-.94-2.06-.94 2.06-2.06.94zm-11 1L8.5 8.5l.94-2.06 2.06-.94-2.06-.94L8.5 2.5l-.94 2.06-2.06.94zm10 10l.94 2.06.94-2.06 2.06-.94-2.06-.94-.94-2.06-.94 2.06-2.06.94z\"/><path d=\"M17.41 7.96l-1.37-1.37c-.4-.4-.92-.59-1.43-.59-.52 0-1.04.2-1.43.59L10.3 9.45l-7.72 7.72c-.78.78-.78 2.05 0 2.83L4 21.41c.39.39.9.59 1.41.59.51 0 1.02-.2 1.41-.59l7.78-7.78 2.81-2.81c.8-.78.8-2.07 0-2.86zM5.41 20L4 18.59l7.72-7.72 1.47 1.35L5.41 20z\"/>\n",
              "  </svg>\n",
              "      </button>\n",
              "      \n",
              "  <style>\n",
              "    .colab-df-container {\n",
              "      display:flex;\n",
              "      flex-wrap:wrap;\n",
              "      gap: 12px;\n",
              "    }\n",
              "\n",
              "    .colab-df-convert {\n",
              "      background-color: #E8F0FE;\n",
              "      border: none;\n",
              "      border-radius: 50%;\n",
              "      cursor: pointer;\n",
              "      display: none;\n",
              "      fill: #1967D2;\n",
              "      height: 32px;\n",
              "      padding: 0 0 0 0;\n",
              "      width: 32px;\n",
              "    }\n",
              "\n",
              "    .colab-df-convert:hover {\n",
              "      background-color: #E2EBFA;\n",
              "      box-shadow: 0px 1px 2px rgba(60, 64, 67, 0.3), 0px 1px 3px 1px rgba(60, 64, 67, 0.15);\n",
              "      fill: #174EA6;\n",
              "    }\n",
              "\n",
              "    [theme=dark] .colab-df-convert {\n",
              "      background-color: #3B4455;\n",
              "      fill: #D2E3FC;\n",
              "    }\n",
              "\n",
              "    [theme=dark] .colab-df-convert:hover {\n",
              "      background-color: #434B5C;\n",
              "      box-shadow: 0px 1px 3px 1px rgba(0, 0, 0, 0.15);\n",
              "      filter: drop-shadow(0px 1px 2px rgba(0, 0, 0, 0.3));\n",
              "      fill: #FFFFFF;\n",
              "    }\n",
              "  </style>\n",
              "\n",
              "      <script>\n",
              "        const buttonEl =\n",
              "          document.querySelector('#df-b1a0a605-6573-40b1-ad51-773dbc54f70c button.colab-df-convert');\n",
              "        buttonEl.style.display =\n",
              "          google.colab.kernel.accessAllowed ? 'block' : 'none';\n",
              "\n",
              "        async function convertToInteractive(key) {\n",
              "          const element = document.querySelector('#df-b1a0a605-6573-40b1-ad51-773dbc54f70c');\n",
              "          const dataTable =\n",
              "            await google.colab.kernel.invokeFunction('convertToInteractive',\n",
              "                                                     [key], {});\n",
              "          if (!dataTable) return;\n",
              "\n",
              "          const docLinkHtml = 'Like what you see? Visit the ' +\n",
              "            '<a target=\"_blank\" href=https://colab.research.google.com/notebooks/data_table.ipynb>data table notebook</a>'\n",
              "            + ' to learn more about interactive tables.';\n",
              "          element.innerHTML = '';\n",
              "          dataTable['output_type'] = 'display_data';\n",
              "          await google.colab.output.renderOutput(dataTable, element);\n",
              "          const docLink = document.createElement('div');\n",
              "          docLink.innerHTML = docLinkHtml;\n",
              "          element.appendChild(docLink);\n",
              "        }\n",
              "      </script>\n",
              "    </div>\n",
              "  </div>\n",
              "  "
            ]
          },
          "metadata": {},
          "execution_count": 83
        }
      ]
    },
    {
      "cell_type": "code",
      "source": [
        "reccomendationsRetail.loc[reccomendationsRetail['session_id']==25]['reccomended'].values[0]"
      ],
      "metadata": {
        "colab": {
          "base_uri": "https://localhost:8080/"
        },
        "id": "2MKNs0NjEhZR",
        "outputId": "e218d225-add9-48c0-e365-204335677291"
      },
      "execution_count": 101,
      "outputs": [
        {
          "output_type": "execute_result",
          "data": {
            "text/plain": [
              "[892, 22302, 19614, 3447, 17288, 43420, 61480, 60681]"
            ]
          },
          "metadata": {},
          "execution_count": 101
        }
      ]
    },
    {
      "cell_type": "code",
      "source": [
        "### Hit rate calculations:\n",
        "hits3 = 0\n",
        "total3 = 0\n",
        "hits5 = 0\n",
        "total5 = 0\n",
        "hits8 = 0\n",
        "total8 = 0\n",
        "for index, row in sorted_events.iterrows():\n",
        "  if index % 2000 == 0:\n",
        "    print('Progress = ' + str(index/len(sorted_events)))\n",
        "  reccomendedVales = reccomendationsRetail.loc[reccomendations['session_id']==row['session_id']].reccomended.values[0]\n",
        "  if row['item_id'] in reccomendedVales[:3]:\n",
        "    hits3 += 1\n",
        "    total3 += 1\n",
        "  else:\n",
        "    total3 += 1\n",
        "  if row['item_id'] in reccomendedVales[:5]:\n",
        "    hits5 += 1\n",
        "    total5 += 1\n",
        "  else:\n",
        "    total5 += 1\n",
        "  if row['item_id'] in reccomendedVales[:8]:\n",
        "    hits8 += 1\n",
        "    total8 += 1\n",
        "  else:\n",
        "    total8 += 1\n",
        "print('Hit rate at 3'+ ':' + str(hits3/total3))\n",
        "print('Hit rate at 5'+ ':' + str(hits5/total5))\n",
        "print('Hit rate at 8'+ ':' + str(hits8/total8))"
      ],
      "metadata": {
        "colab": {
          "base_uri": "https://localhost:8080/"
        },
        "id": "rfllHnXlD3qo",
        "outputId": "be6462cf-dcf3-4988-a794-0bf72ae827d8"
      },
      "execution_count": 110,
      "outputs": [
        {
          "output_type": "stream",
          "name": "stdout",
          "text": [
            "Progress = 0.0\n",
            "Progress = 0.03514629645901063\n",
            "Progress = 0.07029259291802126\n",
            "Progress = 0.1054388893770319\n",
            "Progress = 0.14058518583604251\n",
            "Progress = 0.17573148229505317\n",
            "Progress = 0.2108777787540638\n",
            "Progress = 0.24602407521307443\n",
            "Progress = 0.28117037167208503\n",
            "Progress = 0.3163166681310957\n",
            "Progress = 0.35146296459010634\n",
            "Progress = 0.38660926104911697\n",
            "Progress = 0.4217555575081276\n",
            "Progress = 0.4569018539671382\n",
            "Progress = 0.49204815042614886\n",
            "Progress = 0.5271944468851595\n",
            "Progress = 0.5623407433441701\n",
            "Progress = 0.5974870398031807\n",
            "Progress = 0.6326333362621914\n",
            "Progress = 0.667779632721202\n",
            "Progress = 0.7029259291802127\n",
            "Progress = 0.7380722256392233\n",
            "Progress = 0.7732185220982339\n",
            "Progress = 0.8083648185572445\n",
            "Progress = 0.8435111150162552\n",
            "Progress = 0.8786574114752658\n",
            "Progress = 0.9138037079342765\n",
            "Progress = 0.948950004393287\n",
            "Progress = 0.9840963008522977\n",
            "Hit rate at 3:0.1573499692469906\n",
            "Hit rate at 5:0.17160179246111942\n",
            "Hit rate at 8:0.18198752306475705\n"
          ]
        }
      ]
    },
    {
      "cell_type": "code",
      "source": [
        "reccomendationsRetail3 = pd.DataFrame()\n",
        "startidx = 0\n",
        "endidx = 1000\n",
        "while startidx < len(usersdf.index):\n",
        "  batch = sarsRetail.recommend_k_items(usersdf[startidx:endidx],3)\n",
        "  reccomendationsRetail3 = pd.concat([batch,reccomendationsRetail3])\n",
        "  startidx = endidx\n",
        "  endidx += 1000\n",
        "\n",
        "reccomendationsRetail5 = pd.DataFrame()\n",
        "startidx = 0\n",
        "endidx = 1000\n",
        "while startidx < len(usersdf.index):\n",
        "  batch = sarsRetail.recommend_k_items(usersdf[startidx:endidx],5)\n",
        "  reccomendationsRetail5 = pd.concat([batch,reccomendationsRetail5])\n",
        "  startidx = endidx\n",
        "  endidx += 1000\n",
        "\n",
        "reccomendationsRetail8 = pd.DataFrame()\n",
        "startidx = 0\n",
        "endidx = 1000\n",
        "while startidx < len(usersdf.index):\n",
        "  batch = sarsRetail.recommend_k_items(usersdf[startidx:endidx],8)\n",
        "  reccomendationsRetail8 = pd.concat([batch,reccomendationsRetail8])\n",
        "  startidx = endidx\n",
        "  endidx += 1000"
      ],
      "metadata": {
        "id": "VR7CG9rqJiux"
      },
      "execution_count": 139,
      "outputs": []
    },
    {
      "cell_type": "code",
      "source": [
        "## Ncdg:\n",
        "\n",
        "import recommenders.evaluation.python_evaluation as evalMetrics\n",
        "\n",
        "ndcg3 = evalMetrics.ndcg_at_k(usersdf, reccomendationsRetail3,'session_id','item_id','prediction', k = 3)\n",
        "ndcg5 = evalMetrics.ndcg_at_k(usersdf, reccomendationsRetail5,'session_id','item_id','prediction', k = 5)\n",
        "ndcg8 = evalMetrics.ndcg_at_k(usersdf, reccomendationsRetail8,'session_id','item_id','prediction', k = 8)\n",
        "\n",
        "print('NDCG at 3: ' + str(ndcg3))\n",
        "print('NDCG at 5: ' + str(ndcg5))\n",
        "print('NDCG at 8: ' + str(ndcg8))"
      ],
      "metadata": {
        "colab": {
          "base_uri": "https://localhost:8080/"
        },
        "id": "atUY9VKfJEcY",
        "outputId": "f2acb290-4dca-4556-9e45-e57acb921fde"
      },
      "execution_count": 150,
      "outputs": [
        {
          "output_type": "stream",
          "name": "stdout",
          "text": [
            "NDCG at 3: 0.18358768523058877\n",
            "NDCG at 5: 0.18616771186644382\n",
            "NDCG at 8: 0.18736916893900224\n"
          ]
        }
      ]
    }
  ]
}